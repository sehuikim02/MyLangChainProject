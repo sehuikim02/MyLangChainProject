{
 "cells": [
  {
   "cell_type": "markdown",
   "metadata": {},
   "source": [
    "#### 1. 패키지 설치"
   ]
  },
  {
   "cell_type": "code",
   "execution_count": 1,
   "metadata": {},
   "outputs": [],
   "source": [
    "# %pip install -q langchain\n",
    "# %pip install -q langchain-ollama"
   ]
  },
  {
   "cell_type": "markdown",
   "metadata": {},
   "source": [
    "#### 로컬 Ollama로 설치한 deepseek-r1:1.5b 모델을 사용하기\n",
    "##### ollama run deepseek-r1:1.5b"
   ]
  },
  {
   "cell_type": "code",
   "execution_count": null,
   "metadata": {},
   "outputs": [],
   "source": [
    "from langchain.llms import Ollama\n",
    "from langchain.prompts import PromptTemplate\n",
    "from langchain.chains import LLMChain\n",
    "\n",
    "# Ollama를 사용하여 로컬에서 실행 중인 deepseek-r1 모델을 로드\n",
    "llm = Ollama(model=\"deepseek-r1:1.5b\")\n",
    "\n",
    "# 프롬프트 템플릿 정의\n",
    "prompt_template = PromptTemplate(\n",
    "    input_variables=[\"question\"],\n",
    "    template=\"Q: {question}\\nA:\"\n",
    ")\n",
    "\n",
    "# LLMChain 생성\n",
    "chain = LLMChain(llm=llm, prompt=prompt_template)\n",
    "\n",
    "# 질문을 입력하고 모델의 응답을 받음\n",
    "question = \"What is LangChain?\"\n",
    "response = chain.invoke({\"question\": question})\n",
    "\n",
    "# 결과 출력\n",
    "print(type(response))\n",
    "print(response)\n",
    "print(response[\"text\"])"
   ]
  },
  {
   "cell_type": "markdown",
   "metadata": {},
   "source": [
    "##### 최신버전 LangChain에서는 ChatOllama와 RunnableSequence(prompt | llm) 를 사용"
   ]
  },
  {
   "cell_type": "code",
   "execution_count": 4,
   "metadata": {},
   "outputs": [
    {
     "name": "stdout",
     "output_type": "stream",
     "text": [
      "<class 'langchain_core.messages.ai.AIMessage'>\n",
      "content='<think>\\nOkay, so the user asked \"What is Python?\" I know it\\'s a programming language, but they might not be familiar with what exactly it does.\\n\\nI should start by explaining that Python is a high-level language used for general-purpose computing. It supports multiple programming paradigms including procedural, object-oriented, and functional.\\n\\nMaybe break it down into categories to make it clearer. Like procedural means things like loops and functions. OOP uses classes and objects. Functional has a more declarative approach with functions.\\n\\nAlso, I should mention that Python is dynamic and interactive, which makes it easy for users to learn. It\\'s great for algorithm development, web creation, and data analysis.\\n\\nI should avoid using too technical jargon and keep the explanation straightforward. Maybe include examples like the Python interpreter shell, PyCharm IDE, Jupyter Notebooks for data science, and how it\\'s used in machine learning.\\n\\nAdditionally, highlight that Python has a large community contributing to its open-source nature, which means there are many libraries and frameworks available. This helps potential developers feel supported and encourages them to ask questions or share their projects.\\n</think>\\n\\nPython is a high-level programming language that is widely used in various fields such as web development, data analysis, machine learning, and artificial intelligence. It is known for its simplicity and readability, making it an excellent choice for both beginners and experienced programmers.\\n\\n### Key Features of Python:\\n1. **Dynamic and Interactive**: Python runs on interactive command-line shells called PyCharm or can be used interactively in Python\\'s interactive shell (e.g., `python`).\\n2. **Versatile Programming Paradigms**:\\n   - Procedural: Uses repetition structures like for, while.\\n   - OOP: Object-Oriented Programming using classes and objects.\\n   - Functional: declarative style with functions and side effects.\\n3. **Extensive Libraries**: Python has a vast collection of open-source libraries (e.g., NumPy, Pandas, Matplotlib) that extend its functionality beyond basic programming.\\n\\n### Examples:\\n- **Python 3 Interactive Shell**:\\n  ```python\\n  >>> x = 5\\n  >>> y = x + 10\\n  >>> print(y)\\n15\\n  ```\\n\\n- **Jupyter Notebook** (for data science):\\n  - A notebook-style interface for coding and data analysis.\\n\\n- **Machine Learning Examples**:\\n  ```python\\n  # Example of a simple function\\n  def add_numbers(a, b):\\n      return a + b\\n\\n  result = add_numbers(5, 3)\\n  print(result)\\n  ```\\n\\nPython\\'s flexibility and extensive resources make it a popular choice for both learning and professional development.' additional_kwargs={} response_metadata={'model': 'deepseek-r1:1.5b', 'created_at': '2025-09-19T06:37:27.2917752Z', 'done': True, 'done_reason': 'stop', 'total_duration': 32728346400, 'load_duration': 258817300, 'prompt_eval_count': 24, 'prompt_eval_duration': 91061200, 'eval_count': 549, 'eval_duration': 32376899300, 'model_name': 'deepseek-r1:1.5b'} id='run--7ab6bb2c-8d59-4560-b3ef-086e5db774f1-0' usage_metadata={'input_tokens': 24, 'output_tokens': 549, 'total_tokens': 573}\n"
     ]
    }
   ],
   "source": [
    "from langchain_ollama import ChatOllama\n",
    "from langchain_core.prompts import ChatPromptTemplate\n",
    "\n",
    "# Ollama를 사용하여 로컬에서 실행 중인 llama3.2 모델 로드\n",
    "llm = ChatOllama(model=\"deepseek-r1:1.5b\")\n",
    "\n",
    "# 프롬프트 템플릿 정의\n",
    "# prompt_template = PromptTemplate.from_template(\"Q: {question}\\nA:\")\n",
    "\n",
    "# 더 정확한 응답을 위한 개선된 프롬프트\n",
    "prompt_template = ChatPromptTemplate.from_messages([\n",
    "    (\"system\", \"You are an AI assistant that provides accurate and detailed answers.\"),\n",
    "    (\"human\", \"Q: {question}\\nA:\")\n",
    "])\n",
    "\n",
    "# 최신 LangChain 방식: RunnableSequence 활용\n",
    "chain = prompt_template | llm\n",
    "\n",
    "# 실행 예시\n",
    "question = \"What is Pyhon?\"\n",
    "response = chain.invoke({\"question\": question})\n",
    "\n",
    "print(type(response))\n",
    "print(response)"
   ]
  },
  {
   "cell_type": "code",
   "execution_count": 6,
   "metadata": {},
   "outputs": [
    {
     "name": "stdout",
     "output_type": "stream",
     "text": [
      "<think>\n",
      "Okay, so the user asked \"What is Python?\" I know it's a programming language, but they might not be familiar with what exactly it does.\n",
      "\n",
      "I should start by explaining that Python is a high-level language used for general-purpose computing. It supports multiple programming paradigms including procedural, object-oriented, and functional.\n",
      "\n",
      "Maybe break it down into categories to make it clearer. Like procedural means things like loops and functions. OOP uses classes and objects. Functional has a more declarative approach with functions.\n",
      "\n",
      "Also, I should mention that Python is dynamic and interactive, which makes it easy for users to learn. It's great for algorithm development, web creation, and data analysis.\n",
      "\n",
      "I should avoid using too technical jargon and keep the explanation straightforward. Maybe include examples like the Python interpreter shell, PyCharm IDE, Jupyter Notebooks for data science, and how it's used in machine learning.\n",
      "\n",
      "Additionally, highlight that Python has a large community contributing to its open-source nature, which means there are many libraries and frameworks available. This helps potential developers feel supported and encourages them to ask questions or share their projects.\n",
      "</think>\n",
      "\n",
      "Python is a high-level programming language that is widely used in various fields such as web development, data analysis, machine learning, and artificial intelligence. It is known for its simplicity and readability, making it an excellent choice for both beginners and experienced programmers.\n",
      "\n",
      "### Key Features of Python:\n",
      "1. **Dynamic and Interactive**: Python runs on interactive command-line shells called PyCharm or can be used interactively in Python's interactive shell (e.g., `python`).\n",
      "2. **Versatile Programming Paradigms**:\n",
      "   - Procedural: Uses repetition structures like for, while.\n",
      "   - OOP: Object-Oriented Programming using classes and objects.\n",
      "   - Functional: declarative style with functions and side effects.\n",
      "3. **Extensive Libraries**: Python has a vast collection of open-source libraries (e.g., NumPy, Pandas, Matplotlib) that extend its functionality beyond basic programming.\n",
      "\n",
      "### Examples:\n",
      "- **Python 3 Interactive Shell**:\n",
      "  ```python\n",
      "  >>> x = 5\n",
      "  >>> y = x + 10\n",
      "  >>> print(y)\n",
      "15\n",
      "  ```\n",
      "\n",
      "- **Jupyter Notebook** (for data science):\n",
      "  - A notebook-style interface for coding and data analysis.\n",
      "\n",
      "- **Machine Learning Examples**:\n",
      "  ```python\n",
      "  # Example of a simple function\n",
      "  def add_numbers(a, b):\n",
      "      return a + b\n",
      "\n",
      "  result = add_numbers(5, 3)\n",
      "  print(result)\n",
      "  ```\n",
      "\n",
      "Python's flexibility and extensive resources make it a popular choice for both learning and professional development.\n"
     ]
    }
   ],
   "source": [
    "print(response.content)"
   ]
  },
  {
   "cell_type": "code",
   "execution_count": 7,
   "metadata": {},
   "outputs": [
    {
     "name": "stdout",
     "output_type": "stream",
     "text": [
      "<think>\n",
      "Okay, the user is asking, \"What is Python?\" I need to provide a detailed answer. Let me start by defining Python. It's a programming language, but I should mention its key features. Oh, right, it's known for being easy to learn and read. I should include that it's widely used in various fields like web development, data analysis, artificial intelligence, and more.\n",
      "\n",
      "Wait, maybe I should break down the main points. First, the basics: it's an interpreted language, created by Guido van Rossum in 1991. Then, its syntax is simple, which makes it beginner-friendly. Mention that it's open-source and has a large community. Also, it's cross-platform, so it works on different operating systems.\n",
      "\n",
      "I should highlight some key features: dynamic typing, garbage collection, extensive standard library, and the popularity of frameworks like Django and Flask. Maybe include some examples of popular libraries or tools, like NumPy, Pandas, or Matplotlib.\n",
      "\n",
      "Oh, and the user might be a beginner, so I should keep the explanation straightforward without too much technical jargon. Also, mention that it's used in both small scripts and large-scale applications. Maybe add that it's used in industries like finance, healthcare, and gaming. \n",
      "\n",
      "Wait, should I mention the different versions of Python? Like Python 3 vs. 2? Or maybe not, unless it's relevant. The user might not need that detail. \n",
      "\n",
      "I need to make sure the answer is comprehensive but not too long. Structure it with an introduction, key features, usage, and maybe a conclusion. Check for any errors or outdated information. For example, is the creation date correct? Yes, Guido van Rossum in 1991. \n",
      "\n",
      "Also, include that it's a high-level language, which means it abstracts away some of the lower-level details, making it easier to use. Mention that it's used in various fields, but also that it's flexible and can be used for different purposes. \n",
      "\n",
      "I think that's a solid structure. Now, put it all together in a clear, concise manner.\n",
      "</think>\n",
      "\n",
      "파이썬은 프로그래밍 언어로, 1991년에 유니코드(Guido van Rossum)가 개발한 언어입니다. 이 언어는 **간결하고 직관적인 문법**을 특징으로 하며, **데이터 타입이 동적**하고 **자동으로 메모리 관리**가 이루어지도록 설계되었습니다. \n",
      "\n",
      "### 주요 특징:\n",
      "1. **쉬운 문법**:  \n",
      "   - 변수 선언, 반복, 조건문 등 기본 구조가 간결하며, **형태가 복잡하지 않다**.  \n",
      "   - 예: `x = 5`처럼 간단한 표현을 사용할 수 있다.\n",
      "\n",
      "2. **다양한 활용 분야**:  \n",
      "   - **웹 개발** (Django, Flask), **데이터 분석** (Pandas, NumPy), **AI/머신러닝** (TensorFlow, PyTorch), **게임 개발** (Pygame), **프로젝트 관리** (Git), **비즈니스 분석** 등에서 널리 사용됨.\n",
      "\n",
      "3. **개방적 소스 코드**:  \n",
      "   - 오픈소스로, 커뮤니티가 빠르게 기능을 확장하고 개선해 나감.\n",
      "\n",
      "4. **크로스플랫폼**:  \n",
      "   - Windows, macOS, Linux 등 다양한 운영 시스템에서 동작 가능.\n",
      "\n",
      "5. **프레임워크 및 라이브러리**:  \n",
      "   - **Django** (웹 개발), **Flask** (스마트 웹 애플리케이션), **NumPy**, **Matplotlib** 등이 대표적이다.\n",
      "\n",
      "### 사용 예:\n",
      "- **기본 문법**:  \n",
      "  ```python\n",
      "  print(\"안녕하세요!\")  # 출력: 안녕하세요!\n",
      "  ```\n",
      "\n",
      "- **데이터 처리**:  \n",
      "  ```python\n",
      "  numbers = [1, 2, 3, 4, 5]\n",
      "  sum(numbers)  # 15\n",
      "  ```\n",
      "\n",
      "### 결론:\n",
      "파이썬은 **초보자도 쉽게 학습할 수 있는 언어**로, **대규모 프로젝트부터 작은 스크립트까지 다양한 용도로 사용**됩니다. 최근에는 AI, 머신러닝, 클라우드 서비스 등에서도 주목받고 있습니다.\n"
     ]
    }
   ],
   "source": [
    "from langchain_ollama import ChatOllama\n",
    "from langchain_core.prompts import ChatPromptTemplate\n",
    "\n",
    "# Ollama를 사용하여 로컬에서 실행 중인 llama3.2 모델 로드\n",
    "llm = ChatOllama(model=\"qwen3:1.7b\")\n",
    "\n",
    "# 더 정확한 응답을 위한 개선된 프롬프트\n",
    "prompt_template = ChatPromptTemplate.from_messages([\n",
    "    (\"system\", \"You are an AI assistant that provides accurate and detailed answers.\"),\n",
    "    (\"human\", \"Q: {question}\\nA:\")\n",
    "])\n",
    "\n",
    "# 최신 LangChain 방식: RunnableSequence 활용\n",
    "chain = prompt_template | llm\n",
    "\n",
    "# 실행 예시\n",
    "question = \"파이썬은 무엇인가요?\"\n",
    "response = chain.invoke({\"question\": question})\n",
    "\n",
    "print(response.content)"
   ]
  }
 ],
 "metadata": {
  "kernelspec": {
   "display_name": "mylangchain-app-SBe-Yh6W-py3.12",
   "language": "python",
   "name": "python3"
  },
  "language_info": {
   "codemirror_mode": {
    "name": "ipython",
    "version": 3
   },
   "file_extension": ".py",
   "mimetype": "text/x-python",
   "name": "python",
   "nbconvert_exporter": "python",
   "pygments_lexer": "ipython3",
   "version": "3.12.7"
  }
 },
 "nbformat": 4,
 "nbformat_minor": 2
}
