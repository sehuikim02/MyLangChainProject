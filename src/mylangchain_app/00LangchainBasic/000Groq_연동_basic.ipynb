{
 "cells": [
  {
   "cell_type": "code",
   "execution_count": 4,
   "metadata": {},
   "outputs": [
    {
     "name": "stdout",
     "output_type": "stream",
     "text": [
      "Hello LangChain\n"
     ]
    }
   ],
   "source": [
    "print(\"Hello LangChain\")"
   ]
  },
  {
   "cell_type": "code",
   "execution_count": 6,
   "metadata": {},
   "outputs": [
    {
     "name": "stdout",
     "output_type": "stream",
     "text": [
      "gsk_XSun3\n"
     ]
    }
   ],
   "source": [
    "import os\n",
    "from dotenv import load_dotenv\n",
    "from langchain_core.prompts import ChatPromptTemplate\n",
    "from langchain_openai import ChatOpenAI \n",
    "\n",
    "load_dotenv(dotenv_path='.env')\n",
    "OPENAI_API_KEY = os.getenv(\"OPENAI_API_KEY\")    # 환경변수 가져오기\n",
    "print(OPENAI_API_KEY[:9])\n"
   ]
  },
  {
   "cell_type": "code",
   "execution_count": null,
   "metadata": {},
   "outputs": [
    {
     "name": "stdout",
     "output_type": "stream",
     "text": [
      "<class 'langchain_core.prompts.chat.ChatPromptTemplate'>\n"
     ]
    }
   ],
   "source": [
    "# 1. prommpt 생성\n",
    "# # prompt + llm + output \n",
    "\n",
    "# prompt -> ChatPromptTemplate 사용\n",
    "prompt = ChatPromptTemplate.from_messages(\n",
    "    [ (\"system\", \"당신은 개발자입니다.\") , \n",
    "     (\"user\", \"{input}\") ]\n",
    ")\n",
    "# print(type(prompt))       # ChatPrommptTemplete\n",
    "prompt\n"
   ]
  },
  {
   "cell_type": "code",
   "execution_count": 9,
   "metadata": {},
   "outputs": [
    {
     "name": "stdout",
     "output_type": "stream",
     "text": [
      "<class 'str'>\n",
      "System: 당신은 개발자입니다.\n",
      "Human: 파이썬은 무엇인가요? 자세하게 설명해주세요\n"
     ]
    }
   ],
   "source": [
    "prompt_text = prompt.format(input=\"파이썬은 무엇인가요? 자세하게 설명해주세요\")\n",
    "print(type(prompt_text))\n",
    "print(prompt_text)"
   ]
  },
  {
   "cell_type": "code",
   "execution_count": 17,
   "metadata": {},
   "outputs": [
    {
     "name": "stdout",
     "output_type": "stream",
     "text": [
      "<class 'langchain_openai.chat_models.base.ChatOpenAI'>\n",
      "client=<openai.resources.chat.completions.completions.Completions object at 0x000001604CCE7170> async_client=<openai.resources.chat.completions.completions.AsyncCompletions object at 0x000001604CCE6660> root_client=<openai.OpenAI object at 0x000001604CCE4FE0> root_async_client=<openai.AsyncOpenAI object at 0x000001604CCE5280> model_name='openai/gpt-oss-120b' temperature=0.7 model_kwargs={} openai_api_key=SecretStr('**********') openai_api_base='https://api.groq.com/openai/v1'\n"
     ]
    }
   ],
   "source": [
    "# 2. model 생성\n",
    "#llm = ChatOpenAI(api_key=OPENAI_API_KEY, model=\"gpt-3.5-turbo-0125\")\n",
    "\n",
    "# Groq API를 사용하는 ChatOpenAI 인스턴스 생성\n",
    "llm = ChatOpenAI(\n",
    "    # api_key=OPENAI_API_KEY,     # 사실 default로 OPENAI_API_KEY 속성이 설정되어 있어서 생략 O\n",
    "    base_url=\"https://api.groq.com/openai/v1\",  # Groq API 엔드포인트, \n",
    "    # model=\"meta-llama/llama-4-scout-17b-16e-instruct\",    # llama\n",
    "    # model = \"moonshotai/kimi-k2-instruct-0905\",    # kimi-k2\n",
    "    model = \"openai/gpt-oss-120b\",                # GPT-OSS-120B\n",
    "    \n",
    "    temperature=0.7\n",
    ")\n",
    "print(type(llm))\n",
    "print(llm)"
   ]
  },
  {
   "cell_type": "code",
   "execution_count": 18,
   "metadata": {},
   "outputs": [
    {
     "name": "stdout",
     "output_type": "stream",
     "text": [
      "<class 'langchain_core.messages.ai.AIMessage'>\n",
      "응답: ## 파이썬(Python)이란?\n",
      "\n",
      "파이썬은 **고수준(high‑level), 인터프리터(interpreter) 기반, 동적 타이핑(dynamic typing)**을 지원하는 프로그래밍 언어입니다. 1991년 네덜란드의 귀도 반 로섬(Guido van Rossum)이 처음 발표했으며, 현재는 전 세계적으로 가장 많이 사용되는 언어 중 하나입니다.  \n",
      "\n",
      "---\n",
      "\n",
      "## 1. 파이썬의 주요 특징\n",
      "\n",
      "| 특징 | 설명 | 장점 |\n",
      "|------|------|------|\n",
      "| **읽기 쉬운 문법** | 코드가 거의 영어 문장처럼 읽힌다. 들여쓰기(Indentation)로 블록을 구분한다. | 유지보수·협업이 용이 |\n",
      "| **동적 타이핑** | 변수 선언 시 타입을 명시하지 않는다. 실행 시점에 타입이 결정된다. | 빠른 프로토타이핑, 코드량 감소 |\n",
      "| **인터프리터 언어** | 소스 코드를 바로 실행한다. (컴파일 단계가 없음) | 즉시 피드백, REPL 활용 가능 |\n",
      "| **풍부한 표준 라이브러리** | “배터리 포함(Batteries Included)” 철학에 따라 다양한 모듈이 기본 제공된다. | 외부 패키지 없이도 많은 작업 가능 |\n",
      "| **멀티패러다임** | 절차적, 객체지향, 함수형 프로그래밍을 모두 지원한다. | 다양한 설계 스타일 적용 가능 |\n",
      "| **플랫폼 독립성** | Windows, macOS, Linux 등 거의 모든 OS에서 동일하게 동작한다. | 코드 이식성이 뛰어남 |\n",
      "| **오픈소스** | Python Software Foundation(PSF)에서 관리하며, MIT‑like 라이선스로 자유롭게 사용·배포 가능 | 커뮤니티와 기업의 활발한 지원 |\n",
      "\n",
      "---\n",
      "\n",
      "## 2. 파이썬의 역사와 버전\n",
      "\n",
      "| 연도 | 주요 사건 |\n",
      "|------|-----------|\n",
      "| **1989** | 귀도 반 로섬이 “ABC” 언어의 개선판을 구상 |\n",
      "| **1991** | 파이썬 0.9.0 공개 (예외 처리, 함수, 모듈) |\n",
      "| **2000** | 파이썬 2.0 발표 (가비지 컬렉션, 리스트 컴프리헨션) |\n",
      "| **2008** | 파이썬 3.0 발표 (문자열/바이트 구분, `print` 함수화 등) |\n",
      "| **2020** | 파이썬 2.7 공식 지원 종료 (EOL) |\n",
      "| **2023** | 파이썬 3.12 정식 릴리스 (패턴 매칭 개선, 성능 향상) |\n",
      "| **현재** | 최신 안정 버전은 3.13.x (2025년 기준) |\n",
      "\n",
      "> **주의**: 파이썬 2와 3는 호환성이 완전히 맞지 않으므로, 새로운 프로젝트는 반드시 **Python 3**를 사용하세요.\n",
      "\n",
      "---\n",
      "\n",
      "## 3. 파이썬이 많이 쓰이는 분야\n",
      "\n",
      "| 분야 | 활용 예시 |\n",
      "|------|-----------|\n",
      "| **웹 개발** | Django, Flask, FastAPI 등 웹 프레임워크 |\n",
      "| **데이터 과학·통계** | NumPy, pandas, SciPy, statsmodels |\n",
      "| **머신러닝·딥러닝** | scikit‑learn, TensorFlow, PyTorch, Keras |\n",
      "| **자동화·스크립트** | 시스템 관리, 파일 처리, 웹 스크래핑(BeautifulSoup, Scrapy) |\n",
      "| **네트워크·보안** | Paramiko, Scapy, 자동화 테스트 |\n",
      "| **게임 개발** | Pygame, Godot 엔진의 스크립팅 |\n",
      "| **임베디드·IoT** | MicroPython, CircuitPython |\n",
      "| **과학·공학 시뮬레이션** | Jupyter Notebook, Matplotlib, Bokeh |\n",
      "| **교육** | 초보자용 언어로 널리 채택 |\n",
      "\n",
      "---\n",
      "\n",
      "## 4. 파이썬 기본 문법 예시\n",
      "\n",
      "### 4‑1. “Hello, World!”\n",
      "\n",
      "```python\n",
      "print(\"Hello, World!\")\n",
      "```\n",
      "\n",
      "### 4‑2. 변수와 자료형\n",
      "\n",
      "```python\n",
      "# 정수, 실수, 문자열, 불리언\n",
      "age = 27               # int\n",
      "height = 1.73          # float\n",
      "name = \"홍길동\"         # str\n",
      "is_student = False    # bool\n",
      "\n",
      "# 리스트, 튜플, 딕셔너리, 집합\n",
      "fruits = [\"사과\", \"바나나\", \"체리\"]          # list\n",
      "coords = (10, 20)                           # tuple\n",
      "person = {\"name\": \"홍길동\", \"age\": 27}      # dict\n",
      "unique_numbers = {1, 2, 3, 2, 1}           # set\n",
      "```\n",
      "\n",
      "### 4‑3. 제어문\n",
      "\n",
      "```python\n",
      "# if‑elif‑else\n",
      "if age < 20:\n",
      "    print(\"청소년\")\n",
      "elif age < 30:\n",
      "    print(\"청년\")\n",
      "else:\n",
      "    print(\"성인\")\n",
      "\n",
      "# for 루프 (리스트 순회)\n",
      "for fruit in fruits:\n",
      "    print(fruit)\n",
      "\n",
      "# while 루프\n",
      "i = 0\n",
      "while i < 5:\n",
      "    print(i)\n",
      "    i += 1\n",
      "```\n",
      "\n",
      "### 4‑4. 함수와 람다\n",
      "\n",
      "```python\n",
      "def greet(name: str) -> str:\n",
      "    \"\"\"인사말을 반환한다.\"\"\"\n",
      "    return f\"안녕하세요, {name}님!\"\n",
      "\n",
      "print(greet(\"홍길동\"))\n",
      "\n",
      "# 람다식 (간단한 익명 함수)\n",
      "square = lambda x: x * x\n",
      "print(square(5))   # 25\n",
      "```\n",
      "\n",
      "### 4‑5. 클래스와 객체지향\n",
      "\n",
      "```python\n",
      "class Animal:\n",
      "    def __init__(self, name: str):\n",
      "        self.name = name\n",
      "\n",
      "    def speak(self):\n",
      "        raise NotImplementedError(\"subclass가 구현해야 함\")\n",
      "\n",
      "class Dog(Animal):\n",
      "    def speak(self):\n",
      "        return f\"{self.name}이(가) 멍멍!\"\n",
      "\n",
      "class Cat(Animal):\n",
      "    def speak(self):\n",
      "        return f\"{self.name}이(가) 야옹!\"\n",
      "\n",
      "dog = Dog(\"바둑이\")\n",
      "cat = Cat(\"나비\")\n",
      "print(dog.speak())   # 바둑이이(가) 멍멍!\n",
      "print(cat.speak())   # 나비이(가) 야옹!\n",
      "```\n",
      "\n",
      "### 4‑6. 예외 처리\n",
      "\n",
      "```python\n",
      "try:\n",
      "    result = 10 / 0\n",
      "except ZeroDivisionError as e:\n",
      "    print(\"0으로 나눌 수 없습니다:\", e)\n",
      "finally:\n",
      "    print(\"예외 발생 여부와 관계없이 실행됩니다.\")\n",
      "```\n",
      "\n",
      "### 4‑7. 파일 입출력\n",
      "\n",
      "```python\n",
      "# 파일 쓰기\n",
      "with open(\"example.txt\", \"w\", encoding=\"utf-8\") as f:\n",
      "    f.write(\"파이썬은 재미있어요!\\n\")\n",
      "\n",
      "# 파일 읽기\n",
      "with open(\"example.txt\", \"r\", encoding=\"utf-8\") as f:\n",
      "    content = f.read()\n",
      "    print(content)\n",
      "```\n",
      "\n",
      "---\n",
      "\n",
      "## 5. 파이썬 생태계와 패키지 관리\n",
      "\n",
      "1. **pip** – 기본 패키지 관리자  \n",
      "   ```bash\n",
      "   pip install numpy pandas\n",
      "   ```\n",
      "\n",
      "2. **가상 환경** – 프로젝트마다 독립적인 패키지 집합을 유지  \n",
      "   - `venv` (표준 라이브러리)  \n",
      "     ```bash\n",
      "     python -m venv .venv\n",
      "     source .venv/bin/activate   # macOS/Linux\n",
      "     .venv\\Scripts\\activate.bat   # Windows\n",
      "     ```\n",
      "   - `conda` (Anaconda/Miniconda) – 과학·데이터 분야에서 많이 사용  \n",
      "\n",
      "3. **주요 패키지 레지스트리** – PyPI (Python Package Index)  \n",
      "   웹사이트: <https://pypi.org/>\n",
      "\n",
      "4. **빌드·배포 도구** – `setuptools`, `wheel`, `twine`, `poetry`, `hatch` 등  \n",
      "\n",
      "---\n",
      "\n",
      "## 6. 파이썬을 배우는 로드맵 (초급 → 고급)\n",
      "\n",
      "| 단계 | 목표 | 학습 내용 | 추천 자료 |\n",
      "|------|------|-----------|-----------|\n",
      "| **1. 기초** | 기본 문법·자료형·제어문 | 변수, 연산자, 리스트·딕셔너리, 함수, 파일 입출력 | “점프 투 파이썬”, “Python for Everybody” |\n",
      "| **2. 객체지향** | 클래스·상속·다형성 | `__init__`, 메서드, 상속, 다중 상속, `@property` | “Python OOP” 강좌, Real‑Python |\n",
      "| **3. 표준 라이브러리** | 내장 모듈 활용 | `datetime`, `os`, `sys`, `json`, `logging`, `argparse` | 공식 문서 (docs.python.org) |\n",
      "| **4. 가상 환경·패키지** | 프로젝트 관리 | `venv`, `pip`, `requirements.txt`, `setup.py` | “Python Packaging User Guide” |\n",
      "| **5. 웹·API** | 간단한 웹 서버·REST API | Flask/FastAPI, Jinja2 템플릿, Swagger/OpenAPI | “Flask Mega‑Tutorial”, FastAPI docs |\n",
      "| **6. 데이터 과학** | 데이터 처리·시각화 | NumPy, pandas, Matplotlib/Seaborn, Jupyter Notebook | “Python Data Science Handbook” |\n",
      "| **7. 머신러닝** | 모델 구현·실험 | scikit‑learn, TensorFlow/PyTorch, 모델 서빙 | “Hands‑On Machine Learning with Scikit‑Learn, Keras, TensorFlow” |\n",
      "| **8. 고급 주제** | 최적화·병렬·테스트 | Cython, asyncio, multiprocessing, pytest, type hinting (PEP 484) | “Effective Python”, “Fluent Python” |\n",
      "| **9. 배포·CI/CD** | 프로덕션에 배포 | Docker, GitHub Actions, Kubernetes, serverless | “Docker for Python Developers” |\n",
      "\n",
      "---\n",
      "\n",
      "## 7. 파이썬 커뮤니티와 학습 리소스\n",
      "\n",
      "| 리소스 | 설명 |\n",
      "|--------|------|\n",
      "| **공식 문서** | <https://docs.python.org/3/> – 가장 정확하고 최신 정보 |\n",
      "| **Stack Overflow** | 파이썬 관련 질문·답변이 가장 활발 |\n",
      "| **Reddit** | r/Python, r/learnpython – 토론·자료 공유 |\n",
      "| **GitHub** | 오픈소스 프로젝트(예: Django, Flask, pandas) |\n",
      "| **PyCon** | 전 세계 파이썬 컨퍼런스 (영상·슬라이드 공개) |\n",
      "| **한국 파이썬 커뮤니티** | 파이썬코리아, 파이썬·데이터 과학 스터디 모임 |\n",
      "| **온라인 강의** | Coursera, edX, Udemy, Fast Campus, 인프런 등 |\n",
      "| **책** | “파이썬 코딩 도장”, “Fluent Python”, “Effective Python”, “Automate the Boring Stuff with Python” |\n",
      "\n",
      "---\n",
      "\n",
      "## 8. 파이썬을 선택할 때 고려할 점\n",
      "\n",
      "| 장점 | 단점 (보완 방법) |\n",
      "|------|-----------------|\n",
      "| **생산성** – 짧은 코드로 많은 일을 할 수 있다. | **실행 속도** – 인터프리터 특성상 C/C++보다 느리다. → Cython, PyPy, Numba 등으로 최적화 |\n",
      "| **광범위한 라이브러리** – 거의 모든 분야에 패키지가 있다. | **배포 크기** – 종속성이 많을 경우 패키지 관리가 복잡해질 수 있다. → 가상 환경·Docker 사용 |\n",
      "| **쉬운 학습 곡선** – 초보자 친화적이다. | **동시성** – 전통적인 `threading`은 GIL 때문에 제한적이다. → `asyncio`, `multiprocessing`, 외부 프로세스 활용 |\n",
      "| **대규모 커뮤니티** – 질문·문서·예제가 풍부. | **정적 타입 부재**(전통적) – 대형 프로젝트에서 타입 안전성 필요 → `typing` 모듈·mypy 활용 |\n",
      "\n",
      "---\n",
      "\n",
      "## 9. 간단한 프로젝트 아이디어 (실습용)\n",
      "\n",
      "1. **Todo 리스트 CLI** – `argparse`와 파일 입출력으로 간단한 명령줄 앱 만들기  \n",
      "2. **웹 스크래퍼** – `requests` + `BeautifulSoup`으로 뉴스 헤드라인 수집  \n",
      "3. **날씨 챗봇** – FastAPI + OpenWeatherMap API + Telegram Bot 연동  \n",
      "4. **데이터 시각화 대시보드** – `pandas` + `Plotly Dash`로 인터랙티브 차트 만들기  \n",
      "5. **이미지 필터** – `Pillow`와 `NumPy`로 사진에 필터 적용 프로그램  \n",
      "\n",
      "---\n",
      "\n",
      "## 10. 마무리\n",
      "\n",
      "- 파이썬은 **읽기 쉬운 문법**, **풍부한 라이브러리**, **활발한 커뮤니티** 덕분에 초보자부터 전문가까지 모두에게 적합한 언어입니다.  \n",
      "- 최신 버전(3.12·3.13)에서는 **패턴 매칭**, **성능 향상**, **타입 힌트 개선** 등으로 점점 더 강력해지고 있습니다.  \n",
      "- 실제 프로젝트를 진행하면서 **가상 환경**, **패키지 관리**, **테스트** 등을 체계적으로 적용하면, 파이썬을 통한 개발 효율을 최대화할 수 있습니다.\n",
      "\n",
      "궁금한 점이나 특정 분야(예: 웹, 데이터 과학, 자동화 등)에서 더 깊이 알고 싶은 내용이 있으면 언제든 물어보세요! 🚀\n"
     ]
    }
   ],
   "source": [
    "# 3. 요청 생성\n",
    "\n",
    "try:\n",
    "    response = llm.invoke(prompt_text)\n",
    "    print(type(response))\n",
    "    print(\"응답:\", response.content)\n",
    "except Exception as e:\n",
    "    print(f\"오류 발생: {e}\")"
   ]
  },
  {
   "cell_type": "markdown",
   "metadata": {},
   "source": [
    "# LCEL"
   ]
  },
  {
   "cell_type": "code",
   "execution_count": 19,
   "metadata": {},
   "outputs": [],
   "source": [
    "from langchain_core.output_parsers import StrOutputParser\n",
    "\n",
    "output_parser = StrOutputParser()"
   ]
  },
  {
   "cell_type": "code",
   "execution_count": 20,
   "metadata": {},
   "outputs": [
    {
     "name": "stdout",
     "output_type": "stream",
     "text": [
      "<class 'langchain_core.runnables.base.RunnableSequence'>\n",
      "first=ChatPromptTemplate(input_variables=['input'], input_types={}, partial_variables={}, messages=[SystemMessagePromptTemplate(prompt=PromptTemplate(input_variables=[], input_types={}, partial_variables={}, template='당신은 개발자입니다.'), additional_kwargs={}), HumanMessagePromptTemplate(prompt=PromptTemplate(input_variables=['input'], input_types={}, partial_variables={}, template='{input}'), additional_kwargs={})]) middle=[ChatOpenAI(client=<openai.resources.chat.completions.completions.Completions object at 0x000001604CCE7170>, async_client=<openai.resources.chat.completions.completions.AsyncCompletions object at 0x000001604CCE6660>, root_client=<openai.OpenAI object at 0x000001604CCE4FE0>, root_async_client=<openai.AsyncOpenAI object at 0x000001604CCE5280>, model_name='openai/gpt-oss-120b', temperature=0.7, model_kwargs={}, openai_api_key=SecretStr('**********'), openai_api_base='https://api.groq.com/openai/v1')] last=StrOutputParser()\n"
     ]
    }
   ],
   "source": [
    "chain = prompt | llm | output_parser\n",
    "print(type(chain))\n",
    "print(chain)"
   ]
  },
  {
   "cell_type": "code",
   "execution_count": 23,
   "metadata": {},
   "outputs": [],
   "source": [
    "response = chain.invoke({\"input\":\"LLM이 무엇인가요?\"})"
   ]
  },
  {
   "cell_type": "code",
   "execution_count": 24,
   "metadata": {},
   "outputs": [
    {
     "name": "stdout",
     "output_type": "stream",
     "text": [
      "<class 'str'>\n",
      "**LLM(대규모 언어 모델, Large Language Model)이란?**\n",
      "\n",
      "| 구분 | 내용 |\n",
      "|------|------|\n",
      "| 정의 | 방대한 양의 텍스트 데이터를 학습해 **자연어를 이해하고 생성**할 수 있는 인공지능 모델. “대규모”는 보통 **수억~수천억 개의 파라미터**와 **수십 테라바이트 수준의 학습 데이터**를 의미한다. |\n",
      "| 핵심 기술 | - **Transformer** 아키텍처 (self‑attention 메커니즘)<br>- **사전학습(Pre‑training)** → 일반적인 언어 패턴을 학습<br>- **미세조정(Fine‑tuning)** 또는 **프롬프트 엔지니어링**을 통해 특정 작업에 맞춤 |\n",
      "| 주요 특징 | 1. **문맥 이해**: 입력 토큰들의 순서를 고려해 장거리 의존성을 파악.<br>2. **다양한 작업 수행**: 번역, 요약, 질문‑응답, 코드 생성 등.<br>3. **Zero‑Shot / Few‑Shot**: 별도 학습 없이도 새로운 작업을 어느 정도 수행 가능.<br>4. **대규모 파라미터**: 모델 크기가 클수록 일반화와 창의성이 향상되는 경향이 있음(하지만 비용·환경 영향도 커짐). |\n",
      "| 대표적인 LLM 예시 | - **GPT‑4 / GPT‑3.5** (OpenAI)<br>- **Claude** (Anthropic)<br>- **LLaMA 2** (Meta)<br>- **Gemma** (Google DeepMind)<br>- **Mistral** (Mistral AI) 등 |\n",
      "| 학습 과정 요약 | 1. **데이터 수집**: 웹 페이지, 책, 논문, 코드 저장소 등 다양한 소스.<br>2. **전처리**: 토큰화, 정제, 중복/불법·유해 콘텐츠 제거.<br>3. **사전학습**: <br>   - **다음 토큰 예측**(Causal LM) 혹은 **마스크된 토큰 복원**(Masked LM) 목표로 최적화.<br>   - 대규모 GPU/TPU 클러스터에서 수 주~수 개월 학습.<br>4. **미세조정 / 정렬**: 인간 피드백(RLHF)이나 특정 도메인 데이터로 성능·안전성 향상. |\n",
      "| 활용 분야 | - **검색·챗봇**: 고객 지원, 가상 비서<br>- **콘텐츠 제작**: 기사·블로그·소설 자동 생성<br>- **코딩 도우미**: 코드 완성·버그 설명·문서화<br>- **교육·학습**: 맞춤형 튜터, 문제 풀이 해설<br>- **데이터 분석**: 자연어 질의 → SQL/코드 변환, 레포트 자동 생성<br>- **의료·법률·금융**: 초안 작성·리스크 요약·규정 검토(전문가 검증 필요) |\n",
      "| 장점 | - **범용성**: 하나의 모델로 여러 작업을 수행 가능.<br>- **빠른 프로토타이핑**: 별도 데이터 라벨링 없이도 시제품 제작 가능.<br>- **언어·도메인 확장성**: 다국어·다도메인 학습이 비교적 용이. |\n",
      "| 한계·위험 | - **Hallucination(환각)**: 존재하지 않거나 틀린 정보를 생성.<br>- **편향(Bias)**: 학습 데이터에 내재된 사회·문화 편향을 그대로 반영.<br>- **보안·프라이버시**: 민감한 정보를 학습에 포함시킬 위험.<br>- **자원·환경 비용**: GPU/TPU 클러스터 운영에 큰 전력·탄소 발자국.<br>- **법·윤리 이슈**: 저작권, 악용(스팸·피싱·디지털 피싱) 등. |\n",
      "| 최근 동향 |\n",
      "| 1. **모델 압축·경량화** – LoRA, QLoRA, 정밀도 감소(8‑bit, 4‑bit) 등으로 비용 절감. |\n",
      "| 2. **멀티모달 LLM** – 텍스트와 이미지·음성·비디오를 동시에 처리 (예: GPT‑4V, LLaVA). |\n",
      "| 3. **오픈소스·커뮤니티** – LLaMA, Falcon, Mistral 등 공개 모델이 급증, 접근성 향상. |\n",
      "| 4. **안전·정렬 연구** – RLHF, Constitutional AI, 데이터 라벨링 가이드라인 강화. |\n",
      "| 5. **특정 도메인 맞춤형 모델** – 의료·법률·금융 등 고신뢰 분야 전용 LLM 개발. |\n",
      "\n",
      "---\n",
      "\n",
      "### 한 줄 요약\n",
      "> **LLM은 방대한 텍스트를 학습해 인간과 비슷한 수준의 언어 이해·생성을 가능하게 하는 대규모 Transformer 기반 모델**이며, 다양한 산업·일상에 활용되고 있지만 정확성·편향·자원 소모 등 여러 과제도 함께 안고 있다.\n"
     ]
    }
   ],
   "source": [
    "print(type(response))\n",
    "print(response)"
   ]
  }
 ],
 "metadata": {
  "kernelspec": {
   "display_name": "mylangchain-app-SBe-Yh6W-py3.12",
   "language": "python",
   "name": "python3"
  },
  "language_info": {
   "codemirror_mode": {
    "name": "ipython",
    "version": 3
   },
   "file_extension": ".py",
   "mimetype": "text/x-python",
   "name": "python",
   "nbconvert_exporter": "python",
   "pygments_lexer": "ipython3",
   "version": "3.12.7"
  }
 },
 "nbformat": 4,
 "nbformat_minor": 2
}
