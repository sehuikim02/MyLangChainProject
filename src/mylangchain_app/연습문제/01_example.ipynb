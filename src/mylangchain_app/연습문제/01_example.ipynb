{
 "cells": [
  {
   "cell_type": "markdown",
   "id": "1ba0b325",
   "metadata": {},
   "source": [
    "### 문제 1-1 : 기본 Chain 만들기 - AI 요리사\n",
    "- 문제 설명\n",
    ": 사용자가 재료를 입력하면 그 재료로 만들 수 있는 요리를 추천해주는 간단한 AI 요리사를 만들어보세요.\n",
    "(API키 오류로 인해서 qwen3을 사용했습니다)\n"
   ]
  },
  {
   "cell_type": "code",
   "execution_count": null,
   "id": "fc39c61e",
   "metadata": {},
   "outputs": [
    {
     "name": "stdout",
     "output_type": "stream",
     "text": [
      "추천 요리: 김치볶음밥  \n",
      "재료: 계란, 밥, 김치  \n",
      "조리법:  \n",
      "1. 팬에 기름을 두르고 잘게 썬 김치를 볶습니다.  \n",
      "2. 밥을 넣고 함께 볶아 간을 맞춥니다.  \n",
      "3. 계란을 풀어 넣어 고루 섞어 볶아 완성합니다.\n"
     ]
    }
   ],
   "source": [
    "from langchain_core.prompts import PromptTemplate\n",
    "from langchain_ollama import ChatOllama\n",
    "from langchain_core.output_parsers import StrOutputParser\n",
    "import re\n",
    "\n",
    "def strip_think(text: str) -> str:\n",
    "    # <think>...</think> 블록 제거\n",
    "    return re.sub(r\"<think>.*?</think>\\s*\", \"\", text, flags=re.DOTALL|re.I).strip()\n",
    "\n",
    "prompt = PromptTemplate.from_template(\n",
    "    \"\"\"당신은 친절한 AI 요리사입니다.\n",
    "아래 조건을 꼭 지키세요.\n",
    "- 입력 재료만 사용해 한국에서 흔히 먹는 '한 가지' 요리를 추천\n",
    "- 생소한/비정상 메뉴명 금지, 과도한 창작 금지\n",
    "- 출력 형식을 정확히 유지\n",
    "- 한국어로만 답변\n",
    "\n",
    "[실제 입력]\n",
    "입력 재료: {ingredients}\n",
    "\n",
    "[출력 형식]\n",
    "추천 요리: <요리 이름>\n",
    "재료: <입력된 재료 그대로>\n",
    "조리법:\n",
    "1. ...\n",
    "2. ...\n",
    "3. ...\n",
    "\"\"\"\n",
    ")\n",
    "\n",
    "llm = ChatOllama(\n",
    "    model=\"qwen3:1.7b\",\n",
    "    temperature=0.6\n",
    ")\n",
    "\n",
    "chain = prompt | llm | StrOutputParser()\n",
    "\n",
    "if __name__ == \"__main__\":\n",
    "    user_input = \"계란, 밥, 김치\"\n",
    "    raw = chain.invoke({\"ingredients\": user_input})\n",
    "    print(strip_think(raw))\n"
   ]
  }
 ],
 "metadata": {
  "kernelspec": {
   "display_name": "mylangchain-app-SBe-Yh6W-py3.12",
   "language": "python",
   "name": "python3"
  },
  "language_info": {
   "codemirror_mode": {
    "name": "ipython",
    "version": 3
   },
   "file_extension": ".py",
   "mimetype": "text/x-python",
   "name": "python",
   "nbconvert_exporter": "python",
   "pygments_lexer": "ipython3",
   "version": "3.12.7"
  }
 },
 "nbformat": 4,
 "nbformat_minor": 5
}
