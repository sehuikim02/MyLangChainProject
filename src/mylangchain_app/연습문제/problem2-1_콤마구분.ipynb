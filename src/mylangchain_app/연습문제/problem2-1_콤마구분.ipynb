{
 "cells": [
  {
   "cell_type": "markdown",
   "id": "584483cb",
   "metadata": {},
   "source": [
    "### 문제 2-1 : 콤마 구분 리스트 파서 활용\n",
    "- 출력 파서: CommaSeparatedListOutputParser\n",
    "- 문제\n",
    "사용자가 관심있는 분야(예: \"음식\", \"스포츠\", \"영화\" 등)를 입력하면, 해당 분야와 관련된 한국의 유명한 장소나 활동 5가지를 콤마로 구분된 리스트로 출력하는 프로그램을 작성하세요.\n",
    "\n",
    "- 요구사항:\n",
    "    - CommaSeparatedListOutputParser 사용\n",
    "    - 사용자 입력을 받아 동적으로 처리\n",
    "    - 한국 관련 내용으로 추천\n",
    "\n",
    "- 예시 입력: \"음식\"\n",
    "- 예시 출력: \n",
    "['명동 칼국수', '부산 돼지국밥', '전주 비빔밥', '춘천 닭갈비', '제주 흑돼지']\n",
    "\n"
   ]
  },
  {
   "cell_type": "code",
   "execution_count": null,
   "id": "5a020f52",
   "metadata": {},
   "outputs": [],
   "source": [
    "from langchain_openai import ChatOpenAI\n",
    "from langchain.prompts import PromptTemplate\n",
    "from langchain.output_parsers import CommaSeparatedListOutputParser\n",
    "\n",
    "# 1. 출력 파서 정의\n",
    "output_parser = CommaSeparatedListOutputParser()\n",
    "\n",
    "# 2. 프롬프트 템플릿 생성\n",
    "prompt = PromptTemplate(\n",
    "    template=(\n",
    "        \"사용자가 관심있는 분야를 입력하면, \"\n",
    "        \"해당 분야와 관련된 한국의 유명한 장소나 활동 5가지를 콤마로 구분된 리스트로 출력해줘.\\n\\n\"\n",
    "        \"분야: {field}\\n\"\n",
    "        \"출력 형식: {format_instructions}이고, [지역: 해당 음식]과 같은 형식으로 출력해줘\"\n",
    "    ),\n",
    "    input_variables=[\"field\"],\n",
    "    partial_variables={\"format_instructions\": output_parser.get_format_instructions()},\n",
    ")\n",
    "\n",
    "# 3. 모델 정의\n",
    "llm = ChatOpenAI(\n",
    "    #api_key=OPENAI_API_KEY,\n",
    "    base_url=\"https://api.groq.com/openai/v1\",  # Groq API 엔드포인트\n",
    "    model=\"meta-llama/llama-4-scout-17b-16e-instruct\",\n",
    "    temperature=0.7\n",
    ")\n",
    "\n",
    "# 4. 사용자 입력 받기\n",
    "user_input = input(\"관심있는 분야를 입력하세요 (예: 음식, 스포츠, 영화): \")\n",
    "\n",
    "# 5. 프롬프트 생성\n",
    "_prompt = prompt.format(field=user_input)\n",
    "\n",
    "# 6. 모델 실행 및 파싱\n",
    "response = llm.invoke(_prompt)\n",
    "parsed_output = output_parser.parse(response.content)\n",
    "\n",
    "print(parsed_output)\n"
   ]
  }
 ],
 "metadata": {
  "kernelspec": {
   "display_name": "mylangchain-app-SBe-Yh6W-py3.12",
   "language": "python",
   "name": "python3"
  },
  "language_info": {
   "codemirror_mode": {
    "name": "ipython",
    "version": 3
   },
   "file_extension": ".py",
   "mimetype": "text/x-python",
   "name": "python",
   "nbconvert_exporter": "python",
   "pygments_lexer": "ipython3",
   "version": "3.12.7"
  }
 },
 "nbformat": 4,
 "nbformat_minor": 5
}
