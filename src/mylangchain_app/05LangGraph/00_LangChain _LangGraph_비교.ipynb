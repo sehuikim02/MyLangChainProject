{
  "cells": [
    {
      "cell_type": "markdown",
      "metadata": {},
      "source": [
        "#### LangChain vs LangGraph (feat. LangGraph 개념 설명)\n",
        "* LangGraph의 개념과 주요 기능을 이해하고, 차이점을 비교합니다."
      ]
    },
    {
      "cell_type": "code",
      "execution_count": null,
      "metadata": {},
      "outputs": [],
      "source": [
        "from dotenv import load_dotenv\n",
        "import os\n",
        "\n",
        "load_dotenv()\n",
        "\n",
        "OPENAI_API_KEY = os.getenv(\"OPENAI_API_KEY\")\n",
        "print(OPENAI_API_KEY[:2])\n",
        "\n",
        "UPSTAGE_API_KEY = os.getenv(\"UPSTAGE_API_KEY\")\n",
        "print(UPSTAGE_API_KEY[30:])"
      ]
    },
    {
      "cell_type": "code",
      "execution_count": 2,
      "metadata": {},
      "outputs": [
        {
          "name": "stderr",
          "output_type": "stream",
          "text": [
            "c:\\Users\\user\\AppData\\Local\\pypoetry\\Cache\\virtualenvs\\mylangchain-app-SBe-Yh6W-py3.12\\Lib\\site-packages\\tqdm\\auto.py:21: TqdmWarning: IProgress not found. Please update jupyter and ipywidgets. See https://ipywidgets.readthedocs.io/en/stable/user_install.html\n",
            "  from .autonotebook import tqdm as notebook_tqdm\n"
          ]
        },
        {
          "name": "stdout",
          "output_type": "stream",
          "text": [
            "client=<openai.resources.chat.completions.completions.Completions object at 0x00000233E513AB70> async_client=<openai.resources.chat.completions.completions.AsyncCompletions object at 0x00000233E73A2F90> model_name='solar-pro' temperature=0.5 model_kwargs={} upstage_api_key=SecretStr('**********') upstage_api_base='https://api.upstage.ai/v1'\n"
          ]
        },
        {
          "data": {
            "text/plain": [
              "AIMessage(content='**LangGraph**는 언어 모델(Language Model, LM)을 활용해 복잡한 대화 흐름이나 상태 기반 애플리케이션을 구축할 수 있도록 설계된 오픈소스 프레임워크입니다. 주로 **LLM(Large Language Model)과 상태 머신(State Machine) 개념을 결합**하여, 다단계 대화, 작업 자동화, 챗봇, 에이전트 시스템 등을 효율적으로 개발할 수 있게 해줍니다.\\n\\n### 주요 특징:\\n1. **상태 관리**  \\n   - 대화나 작업 과정에서 **상태(State)를 추적**할 수 있어, 이전 컨텍스트를 유지하며 복잡한 흐름을 제어합니다.\\n   - 예: 사용자 인증 → 주문 확인 → 결제 처리 같은 다단계 프로세스.\\n\\n2. **그래프 기반 아키텍처**  \\n   - 노드(Node)와 엣지(Edge)로 구성된 **유한 상태 머신(Finite State Machine)** 또는 **다이내믹 그래프**를 사용해 흐름을 시각화합니다.\\n   - 각 노드는 LLM 호출, 외부 API 통합, 조건 분기 등의 작업을 수행할 수 있습니다.\\n\\n3. **LLM 통합**  \\n   - LangChain, Llamaindex 등 다른 LLM 프레임워크와 호환되며, **LLM의 출력을 기반으로 상태를 업데이트**하거나 경로를 변경할 수 있습니다.\\n   - 예: 사용자 질문에 따라 다음 단계를 결정하는 조건부 라우팅.\\n\\n4. **확장성**  \\n   - 커스텀 노드나 미들웨어를 추가해 기능을 확장할 수 있습니다.\\n   - 메모리, 검색, 도구 사용(Tool Use) 등을 통합할 수 있습니다.\\n\\n5. **실용성**  \\n   - 반복적인 프롬프트 엔지니어링 없이도 **구조화된 대화 시스템**을 구축할 수 있습니다.\\n\\n### 사용 사례:\\n- **멀티턴 챗봇**: 이전 대화를 기반으로 응답 조정.\\n- **워크플로우 자동화**: 문서 처리, 고객 지원 티켓 분류 등.\\n- **에이전트 시스템**: LLM이 환경과 상호작용하며 목표 달성 (예: 웹 검색, 데이터 분석).\\n\\n### 기술적 배경:\\n- Python 기반으로 개발되었으며, [LangChain](https://www.langchain.com/) 생태계와 긴밀하게 연동됩니다.\\n- 상태 전이와 메시지 라우팅을 처리하는 `StatefulGraph` 클래스를 제공합니다.\\n\\n### 예시 코드 (간단한 그래프):\\n```python\\nfrom langgraph import State, Graph\\n\\nstate = State()\\n\\nwith Graph(state) as graph:\\n    # 초기 노드: 사용자 입력 받기\\n    await graph.create_node(\"start\")(lambda x: {\"next\": \"process\"})\\n\\n    # 처리 노드: LLM 호출 또는 로직 실행\\n    await graph.create_node(\"process\")(lambda x: {\"next\": \"end\"})\\n\\n    # 종료 노드\\n    await graph.create_node(\"end\")(lambda x: {\"done\": True})\\n\\nflow = graph.compile()\\n```\\n\\nLangGraph는 **LLM 기반 애플리케이션의 복잡성을 관리**하는 데 유용하며, 특히 상태 의존적인 작업에서 강점을 보입니다. 공식 문서나 GitHub 저장소에서 더 자세한 예제를 확인할 수 있습니다.', additional_kwargs={'refusal': None}, response_metadata={'token_usage': {'completion_tokens': 560, 'prompt_tokens': 19, 'total_tokens': 579, 'completion_tokens_details': {'accepted_prediction_tokens': 0, 'audio_tokens': 0, 'reasoning_tokens': 0, 'rejected_prediction_tokens': 0}, 'prompt_tokens_details': {'audio_tokens': 0, 'cached_tokens': 0}}, 'model_name': 'solar-pro2-250909', 'system_fingerprint': None, 'id': '072028b5-6606-4e3a-92bd-f131e4978390', 'service_tier': None, 'finish_reason': 'stop', 'logprobs': None}, id='run--562182c1-0995-48c1-ba1b-6917de9968fc-0', usage_metadata={'input_tokens': 19, 'output_tokens': 560, 'total_tokens': 579, 'input_token_details': {'audio': 0, 'cache_read': 0}, 'output_token_details': {'audio': 0, 'reasoning': 0}})"
            ]
          },
          "execution_count": 2,
          "metadata": {},
          "output_type": "execute_result"
        }
      ],
      "source": [
        "# from langchain_openai import ChatOpenAI\n",
        "\n",
        "# llm = ChatOpenAI(model='gpt-4o-mini') # 테스트의 경우에는 작은 모델을 사용합니다\n",
        "\n",
        "from langchain_upstage import ChatUpstage\n",
        "llm = ChatUpstage(\n",
        "        model=\"solar-pro\",\n",
        "        base_url=\"https://api.upstage.ai/v1\",\n",
        "        temperature=0.5\n",
        "    )\n",
        "print(llm)\n",
        "\n",
        "query = 'LangGraph는 무엇인가요?'\n",
        "llm.invoke(query)\n",
        "\n"
      ]
    },
    {
      "cell_type": "markdown",
      "metadata": {},
      "source": [
        "#### LangGraph의 기본개념\n",
        "* `state`는 LangGraph 에이전트의 state를 나타내는 데이터 구조입니다.\n",
        "* `state`는 `TypedDict`를 사용하여 정의되며, 이는 Python의 타입 힌팅을 통해 구조를 명확히 합니다.\n",
        "    * 간단하게 `messages`라는 필드만 있습니다.\n",
        "    * 필요에 따라 다양한 값들을 활용할 수 있습니다.\n",
        "* `state`는 에이전트의 동작을 결정하는 데 사용되며, 각 노드에서 state를 업데이트하거나 참조할 수 있습니다.\n",
        "* `state`는 LangGraph의 노드 간에 전달되며, 에이전트의 state 전이를 관리합니다."
      ]
    },
    {
      "cell_type": "code",
      "execution_count": 3,
      "metadata": {},
      "outputs": [],
      "source": [
        "from typing import Annotated # 타입 힌트를 사용하기 위해 Annotated 사용\n",
        "from typing_extensions import TypedDict # 구조화된 딕셔너리 타입을 정의하기 위해 \n",
        "\n",
        "from langgraph.graph.message import add_messages \n",
        "from langchain_core.messages import AnyMessage # LangChain에서 사용하는 모든 종류의 메시지(예: HumanMessage, AIMessage)\n",
        "\n",
        "# AgentState는 에이전트의 현재 상태를 나타내는 딕셔너리 타입을 정의합니다.\n",
        "# TypedDict를 사용하면 딕셔너리가 어떤 키와 값 타입을 가져야 하는지 명확하게 지정할 수 있습니다.\n",
        "class AgentState(TypedDict):\n",
        "    # 'messages' 키는 에이전트의 대화 기록을 저장합니다.\n",
        "    # 이 목록에는 LangChain 메시지 객체(AnyMessage)가 들어갑니다.\n",
        "    # LangGraph가 이 상태를 처리할 때, 새로운 메시지가 추가되면\n",
        "    # 기존 메시지 목록의 끝에 자동으로 추가되도록(append) 설정합니다.\n",
        "    messages: list[Annotated[AnyMessage, add_messages]]"
      ]
    },
    {
      "cell_type": "markdown",
      "metadata": {},
      "source": [
        "- 위에 선언한 `AgentState`를 활용하여 `StateGraph`를 생성합니다."
      ]
    },
    {
      "cell_type": "code",
      "execution_count": 4,
      "metadata": {},
      "outputs": [],
      "source": [
        "from langgraph.graph import StateGraph\n",
        "\n",
        "graph_builder = StateGraph(AgentState)"
      ]
    },
    {
      "cell_type": "markdown",
      "metadata": {},
      "source": [
        "- `graph`에 추가할 `node`를 생성합니다\n",
        "-  `node`는 LangGraph에서 실행되는 개별적인 작업 단위를 의미합니다. \n",
        "    - 각 노드는 특정 기능을 수행하는 독립적인 컴포넌트로, 예를 들어 텍스트 생성, 데이터 처리, 또는 의사 결정과 같은 작업을 담당할 수 있습니다.\n",
        "    - `node`는 기본적으로 함수(function)로 정의되고, 뒤에서 다루지만 다른 에이전트(agent)를 활용할 수도 있습니다"
      ]
    },
    {
      "cell_type": "code",
      "execution_count": 6,
      "metadata": {},
      "outputs": [],
      "source": [
        "def generate(state: AgentState) -> AgentState:\n",
        "    \"\"\"\n",
        "    `generate` 노드는 사용자의 질문을 받아서 응답을 생성하는 노드입니다.\n",
        "    \"\"\"\n",
        "    messages = state['messages'] \n",
        "    ai_message = llm.invoke(messages)\n",
        "    return {'messages': [ai_message]}"
      ]
    },
    {
      "cell_type": "markdown",
      "metadata": {},
      "source": [
        "- `node`를 생성한 후에 `edge`로 연결합니다\n",
        "- `edge`는 노드들 사이의 연결을 나타내며, 데이터와 제어 흐름의 경로를 정의합니다. \n",
        "    - 엣지를 통해 한 노드의 출력이 다음 노드의 입력으로 전달되어, 전체적인 워크플로우가 형성됩니다.\n",
        "    - `node`와 `edge`의 조합은 방향성 그래프(Directed Graph)를 형성하며, 이를 통해 복잡한 AI 에이전트의 행동 흐름을 구조화할 수 있습니다"
      ]
    },
    {
      "cell_type": "code",
      "execution_count": 7,
      "metadata": {},
      "outputs": [
        {
          "data": {
            "text/plain": [
              "<langgraph.graph.state.StateGraph at 0x233e7540bf0>"
            ]
          },
          "execution_count": 7,
          "metadata": {},
          "output_type": "execute_result"
        }
      ],
      "source": [
        "graph_builder.add_node('generate', generate)"
      ]
    },
    {
      "cell_type": "markdown",
      "metadata": {},
      "source": [
        "- 모든 그래프는 `START(시작)`와 `END(종료)`가 있습니다\n",
        "    - `END`를 explicit하게 선언하지 않는 경우도 종종 있지만, 가독성을 위해 작성해주는 것을 권장합니다"
      ]
    },
    {
      "cell_type": "code",
      "execution_count": 8,
      "metadata": {},
      "outputs": [
        {
          "data": {
            "text/plain": [
              "<langgraph.graph.state.StateGraph at 0x233e7540bf0>"
            ]
          },
          "execution_count": 8,
          "metadata": {},
          "output_type": "execute_result"
        }
      ],
      "source": [
        "from langgraph.graph import START, END\n",
        "\n",
        "graph_builder.add_edge(START, 'generate')\n",
        "graph_builder.add_edge('generate', END)"
      ]
    },
    {
      "cell_type": "markdown",
      "metadata": {},
      "source": [
        "- `node`를 생성하고 `edge`로 연결한 후에 `compile` 메서드를 호출하여 `Graph`를 생성합니다"
      ]
    },
    {
      "cell_type": "code",
      "execution_count": 9,
      "metadata": {},
      "outputs": [
        {
          "name": "stdout",
          "output_type": "stream",
          "text": [
            "<class 'langgraph.graph.state.CompiledStateGraph'>\n"
          ]
        }
      ],
      "source": [
        "graph = graph_builder.compile()\n",
        "print(type(graph))"
      ]
    },
    {
      "cell_type": "markdown",
      "metadata": {},
      "source": [
        "- `compile` 후에는 그래프를 시각화하여 확인할 수 있습니다\n",
        "- 의도한대로 그래프가 생성됐는지 확인하는 습관을 기르는 것이 좋습니다\n",
        "    - `git`에서 코드 작업물을 commit하기 전에 `git diff`를 통해 변경사항을 확인하는 것과 같습니다"
      ]
    },
    {
      "cell_type": "code",
      "execution_count": null,
      "metadata": {},
      "outputs": [],
      "source": [
        "#from IPython.display import display, Image\n",
        "\n",
        "#display(Image(graph.get_graph().draw_mermaid_png(max_retries=5, retry_delay=2.0)))"
      ]
    },
    {
      "cell_type": "code",
      "execution_count": 10,
      "metadata": {},
      "outputs": [
        {
          "name": "stdout",
          "output_type": "stream",
          "text": [
            "Mermaid Code:\n",
            "---\n",
            "config:\n",
            "  flowchart:\n",
            "    curve: linear\n",
            "---\n",
            "graph TD;\n",
            "\t__start__([<p>__start__</p>]):::first\n",
            "\tgenerate(generate)\n",
            "\t__end__([<p>__end__</p>]):::last\n",
            "\t__start__ --> generate;\n",
            "\tgenerate --> __end__;\n",
            "\tclassDef default fill:#f2f0ff,line-height:1.2\n",
            "\tclassDef first fill-opacity:0\n",
            "\tclassDef last fill:#bfb6fc\n",
            "\n"
          ]
        }
      ],
      "source": [
        "# 대체 방법\n",
        "mermaid_code = graph.get_graph().draw_mermaid()\n",
        "print(\"Mermaid Code:\")\n",
        "print(mermaid_code)"
      ]
    },
    {
      "cell_type": "markdown",
      "metadata": {},
      "source": [
        "* https://mermaid.live/ 에서  mermain_code 로 직접 확인한다.\n"
      ]
    },
    {
      "cell_type": "code",
      "execution_count": 13,
      "metadata": {},
      "outputs": [
        {
          "name": "stdout",
          "output_type": "stream",
          "text": [
            "<class 'dict'>\n",
            "<class 'langchain_core.messages.ai.AIMessage'>\n",
            "[AIMessage(content='**LangGraph**와 **LangChain**은 모두 LLM(Large Language Model)을 활용한 애플리케이션 개발을 위한 프레임워크이지만, 목적과 기능에서 차이가 있습니다. 아래에 각각의 개념과 차이점을 정리했습니다.\\n\\n---\\n\\n### 1. **LangChain**  \\n- **정의**:  \\n  LangChain은 LLM을 기반으로 한 애플리케이션 구축을 위한 **모듈형 프레임워크**입니다.  \\n  체인(Chain), 에이전트(Agent), 메모리(Memory), 콜백(Callback) 등의 컴포넌트를 조합해 복잡한 워크플로우를 구성할 수 있도록 지원합니다.\\n\\n- **주요 기능**:  \\n  - **모듈성**: 프롬프트 관리, 체인 조합, 외부 도구(검색, 계산 등) 통합이 용이합니다.  \\n  - **유연성**: 단일 LLM 호출부터 다중 단계 워크플로우까지 다양한 시나리오 지원.  \\n  - **에이전트**: 동적 의사 결정이 필요한 작업에 적합합니다 (예: 사용자 질문에 따라 도구 선택).  \\n  - **메모리**: 채팅 기록이나 상태 유지가 필요한 애플리케이션에 활용됩니다.\\n\\n- **적합한 사용 사례**:  \\n  - 챗봇, 문서 요약, 코드 생성 등 **단일 또는 다단계 LLM 작업**.  \\n  - 외부 데이터 소스(데이터베이스, API)와의 통합이 필요한 경우.\\n\\n---\\n\\n### 2. **LangGraph**  \\n- **정의**:  \\n  LangGraph는 **상태(State) 기반의 복잡한 워크플로우**를 구축하기 위한 LangChain의 확장 도구입니다.  \\n  그래프 구조를 통해 LLM 애플리케이션의 흐름을 시각화하고 제어할 수 있습니다.\\n\\n- **주요 기능**:  \\n  - **상태 관리**: 각 노드에서 상태(State)를 업데이트하며, 이전 컨텍스트를 유지할 수 있습니다.  \\n  - **그래프 구조**: 조건부 분기, 루프, 병렬 처리 등 복잡한 제어 흐름을 지원합니다.  \\n  - **확장성**: 대규모 멀티스테이트 애플리케이션(예: 대화형 설문, 게임, 워크플로우 자동화)에 최적화됨.  \\n  - **LangChain 통합**: LangChain의 체인/에이전트를 그래프 노드로 재사용 가능합니다.\\n\\n- **적합한 사용 사례**:  \\n  - **대화형 애플리케이션**에서 사용자 입력에 따라 동적으로 흐름이 변경되는 경우.  \\n  - 상태 추적과 장기 메모리 관리가 필요한 복잡한 워크플로우 (예: 고객 지원 봇, 게임 AI).\\n\\n---\\n\\n### 3. **차이점 요약**  \\n\\n| 특징                | LangChain                          | LangGraph                          |\\n|---------------------|-------------------------------------|-------------------------------------|\\n| **주요 목적**       | 모듈식 LLM 애플리케이션 구축        | 상태 기반 그래프 워크플로우 구축     |\\n| **제어 흐름**       | 선형/분기 체인 또는 에이전트 기반   | 그래프 구조 (노드 + 엣지)          |\\n| **상태 관리**       | 제한적 (메모리 모듈로 보완)        | 내장된 상태 추적 및 업데이트        |\\n| **복잡성**          | 단순한 작업부터 중간 복잡성까지     | 고복잡성 워크플로우 (루프, 병렬 처리)|\\n| **사용 예시**       | 챗봇, 문서 처리                    | 대화형 설문, 게임, 다중 단계 프로세스|\\n\\n---\\n\\n### 4. **언제 무엇을 선택할까?**  \\n- **LangChain**을 선택하는 경우:  \\n  - 기본적인 LLM 호출이나 간단한 체인 조합이 필요할 때.  \\n  - 외부 도구와의 통합이 주목적일 때.  \\n\\n- **LangGraph**를 선택하는 경우:  \\n  - 사용자 입력에 따라 동적으로 흐름이 바뀌는 복잡한 대화 시스템을 구축할 때.  \\n  - 상태(State)를 명시적으로 관리해야 하는 경우 (예: \"이전 단계에서 선택한 옵션에 따라 다음 질문 변경\").  \\n\\n- **통합 사용**:  \\n  LangGraph는 LangChain을 기반으로 하므로, 두 도구를 함께 사용해 모듈성과 그래프 구조를 모두 활용할 수 있습니다.  \\n  예: LangChain의 `RetrievalQA` 체인을 LangGraph의 노드로 임베딩.\\n\\n---\\n\\n### 5. **참고 자료**  \\n- [LangChain 공식 문서](https://python.langchain.com/)  \\n- [LangGraph GitHub](https://github.com/langchain-ai/langgraph)  \\n- [LangGraph 튜토리얼](https://blog.langchain.com/langgraph/)  \\n\\nLangGraph는 비교적 새로운 도구이지만, 복잡한 워크플로우를 체계적으로 설계할 때 강력한 장점을 가집니다.', additional_kwargs={'refusal': None}, response_metadata={'token_usage': {'completion_tokens': 831, 'prompt_tokens': 25, 'total_tokens': 856, 'completion_tokens_details': {'accepted_prediction_tokens': 0, 'audio_tokens': 0, 'reasoning_tokens': 0, 'rejected_prediction_tokens': 0}, 'prompt_tokens_details': {'audio_tokens': 0, 'cached_tokens': 0}}, 'model_name': 'solar-pro2-250909', 'system_fingerprint': None, 'id': '6fb5a3b9-dce5-458e-8211-1e32c2c1c77a', 'service_tier': None, 'finish_reason': 'stop', 'logprobs': None}, id='run--f00b061f-2beb-4a20-8cc7-f03c21ee3930-0', usage_metadata={'input_tokens': 25, 'output_tokens': 831, 'total_tokens': 856, 'input_token_details': {'audio': 0, 'cache_read': 0}, 'output_token_details': {'audio': 0, 'reasoning': 0}})]\n"
          ]
        }
      ],
      "source": [
        "from langchain_core.messages import HumanMessage\n",
        "\n",
        "query = 'langgraph는 무엇인가요? langchain과의 차이점은 무엇인가요?'\n",
        "\n",
        "initial_state = {'messages': [HumanMessage(query)]}\n",
        "result = graph.invoke(initial_state)\n",
        "\n",
        "print(type(result))\n",
        "print(type(result['messages'][0]))\n",
        "print(result['messages'])"
      ]
    },
    {
      "cell_type": "markdown",
      "metadata": {},
      "source": [
        "### 2. 2개의 AI 에이전트(노드)와 협력하기\n",
        "- 첫번째 AI 에이전트\n",
        "    - 사용자의 질문을 분석하고 핵심 키워드와 배경 정보를 추가하는 역할\n",
        "- 두번쨰 AI 에이전트\n",
        "    - 첫번째 에이전트가 제공한 정보를 기반으로 좀 더 자세한 답변을 생성하는 역할"
      ]
    },
    {
      "cell_type": "code",
      "execution_count": 14,
      "metadata": {},
      "outputs": [
        {
          "name": "stdout",
          "output_type": "stream",
          "text": [
            "solar-pro\n"
          ]
        }
      ],
      "source": [
        "print(llm.model_name)"
      ]
    },
    {
      "cell_type": "code",
      "execution_count": 15,
      "metadata": {},
      "outputs": [],
      "source": [
        "from langgraph.graph import StateGraph\n",
        "from pprint import pprint\n",
        "\n",
        "#첫번째 AI 에이전트\n",
        "def agent_1(state):\n",
        "    \"\"\"사용자의 질문을 분석하고 핵심 키워드아 배경 정보를 추가하는 역할\"\"\"\n",
        "    query = state['query']\n",
        "    \n",
        "    keywords = llm.invoke(f'질문: {query}\\n이 질문에서 핵심 키워드를 3~5개 추출해 주세요.')\n",
        "\n",
        "     # 질문과 관련된 배경 정보 제공\n",
        "    background_info = llm.invoke(f\"질문: {query}\\n이 질문을 이해하는 데 도움이 될 만한 추가 정보를 제공해 주세요.\")\n",
        "\n",
        "    print(f\"\\n[Agent 1] 원본 질문: {query}\")\n",
        "    print(f\"[Agent 1] 핵심 키워드: {keywords}\")\n",
        "    print(f\"[Agent 1] 배경 정보: {background_info}\\n\")\n",
        "\n",
        "\n",
        "    return {\"refined_query\": query, \"keywords\": keywords, \"background_info\": background_info}"
      ]
    },
    {
      "cell_type": "code",
      "execution_count": null,
      "metadata": {},
      "outputs": [],
      "source": [
        "# 두번째 AI 에이전트\n",
        "def agent_2(state):\n",
        "    \"\"\"첫번째 에이전트가 제공한 정보를 기반으로 좀 더 자세한 답변을 생성하는 역할\"\"\"\n",
        "    refined_query = state['refined_query']\n",
        "    keywords = state['keywords']\n",
        "    background_info = state['background_info']\n",
        "\n",
        "    # Agent 1이 제공한 정보를 활용하여 최종 답변 생성\n",
        "    final_response = llm.invoke(\n",
        "        f\"질문: {refined_query}\\n\"\n",
        "        f\"핵심 키워드: {keywords}\\n\"\n",
        "        f\"배경 정보: {background_info}\\n\"\n",
        "        f\"위 정보를 바탕으로 질문에 대한 깊이 있는 답변을 작성해 주세요.\"\n",
        "    )\n",
        "\n",
        "    print(f\"[Agent 2] 최종 답변 생성 완료\\n\")\n",
        "    \n",
        "    return {\"final_answer\": final_response}"
      ]
    },
    {
      "cell_type": "code",
      "execution_count": 17,
      "metadata": {},
      "outputs": [
        {
          "name": "stdout",
          "output_type": "stream",
          "text": [
            "<class 'langgraph.graph.state.StateGraph'>\n"
          ]
        }
      ],
      "source": [
        "# WorkFlow 역할을 하는 StateGraph 객체를 생성하기\n",
        "workflow = StateGraph(dict)\n",
        "\n",
        "print(type(workflow))\n"
      ]
    },
    {
      "cell_type": "code",
      "execution_count": 18,
      "metadata": {},
      "outputs": [
        {
          "data": {
            "text/plain": [
              "{'agent_1': StateNodeSpec(runnable=agent_1(tags=None, recurse=True, explode_args=False, func_accepts={}), metadata=None, input_schema=<class 'dict'>, retry_policy=None, cache_policy=None, ends=(), defer=False),\n",
              " 'agent_2': StateNodeSpec(runnable=agent_2(tags=None, recurse=True, explode_args=False, func_accepts={}), metadata=None, input_schema=<class 'dict'>, retry_policy=None, cache_policy=None, ends=(), defer=False)}"
            ]
          },
          "execution_count": 18,
          "metadata": {},
          "output_type": "execute_result"
        }
      ],
      "source": [
        "# WorkFlow에 Node 추가하기\n",
        "workflow.add_node(\"agent_1\", agent_1)\n",
        "workflow.add_node(\"agent_2\", agent_2)\n",
        "\n",
        "workflow.nodes\n"
      ]
    },
    {
      "cell_type": "code",
      "execution_count": 19,
      "metadata": {},
      "outputs": [
        {
          "name": "stdout",
          "output_type": "stream",
          "text": [
            "{('__start__', 'agent_1'), ('agent_1', 'agent_2')}\n"
          ]
        }
      ],
      "source": [
        "# WorkFlow에 Edgeg 추가하기\n",
        "# agent_1이 먼저 실행됨\n",
        "\n",
        "workflow.set_entry_point(\"agent_1\")\n",
        "\n",
        "# agent_1 -> agent_2\n",
        "workflow.add_edge(\"agent_1\", \"agent_2\")\n",
        "\n",
        "print(workflow.edges)"
      ]
    },
    {
      "cell_type": "code",
      "execution_count": 20,
      "metadata": {},
      "outputs": [
        {
          "name": "stdout",
          "output_type": "stream",
          "text": [
            "<class 'langgraph.graph.state.CompiledStateGraph'>\n"
          ]
        },
        {
          "data": {
            "image/png": "[encoded data removed]",
            "text/plain": [
              "<langgraph.graph.state.CompiledStateGraph object at 0x00000233E74D1D00>"
            ]
          },
          "execution_count": 20,
          "metadata": {},
          "output_type": "execute_result"
        }
      ],
      "source": [
        "graph = workflow.compile()\n",
        "\n",
        "print(type(graph))\n",
        "graph\n"
      ]
    },
    {
      "cell_type": "code",
      "execution_count": 22,
      "metadata": {},
      "outputs": [
        {
          "name": "stdout",
          "output_type": "stream",
          "text": [
            "---\n",
            "config:\n",
            "  flowchart:\n",
            "    curve: linear\n",
            "---\n",
            "graph TD;\n",
            "\t__start__([<p>__start__</p>]):::first\n",
            "\tagent_1(agent_1)\n",
            "\tagent_2(agent_2)\n",
            "\t__end__([<p>__end__</p>]):::last\n",
            "\t__start__ --> agent_1;\n",
            "\tagent_1 --> agent_2;\n",
            "\tagent_2 --> __end__;\n",
            "\tclassDef default fill:#f2f0ff,line-height:1.2\n",
            "\tclassDef first fill-opacity:0\n",
            "\tclassDef last fill:#bfb6fc\n",
            "\n"
          ]
        }
      ],
      "source": [
        "mermaid_code = graph.get_graph().draw_mermaid()\n",
        "\n",
        "print(mermaid_code)"
      ]
    },
    {
      "cell_type": "code",
      "execution_count": 24,
      "metadata": {},
      "outputs": [
        {
          "name": "stdout",
          "output_type": "stream",
          "text": [
            "\n",
            "[Agent 1] 원본 질문: LangGraph는 무엇이며, LangChain과 어떤 차이점이 있나요?\n",
            "[Agent 1] 핵심 키워드: content='핵심 키워드:  \\n1. **LangGraph**  \\n2. **LangChain**  \\n3. **차이점**  \\n4. **프레임워크** (또는 **도구**)  \\n5. **기능 비교** (선택적)  \\n\\n*추가 설명*:  \\n- \"LangGraph\"와 \"LangChain\"은 각각 다른 목적의 프레임워크로, LangGraph는 그래프 기반 워크플로우에 특화된 반면, LangChain은 체인(Chain) 형태의 LLM 애플리케이션 구축에 중점을 둡니다.  \\n- \"차이점\"은 두 기술의 핵심 비교 대상이며, \"프레임워크\" 또는 \"도구\"는 이들의 범주를 명확히 하는 키워드입니다.' additional_kwargs={'refusal': None} response_metadata={'token_usage': {'completion_tokens': 123, 'prompt_tokens': 40, 'total_tokens': 163, 'completion_tokens_details': {'accepted_prediction_tokens': 0, 'audio_tokens': 0, 'reasoning_tokens': 0, 'rejected_prediction_tokens': 0}, 'prompt_tokens_details': {'audio_tokens': 0, 'cached_tokens': 0}}, 'model_name': 'solar-pro2-250909', 'system_fingerprint': None, 'id': 'e852b5f6-6fb3-44da-9766-b1de19045b04', 'service_tier': None, 'finish_reason': 'stop', 'logprobs': None} id='run--f3629577-2a7f-4766-ba24-a72c7ee706b2-0' usage_metadata={'input_tokens': 40, 'output_tokens': 123, 'total_tokens': 163, 'input_token_details': {'audio': 0, 'cache_read': 0}, 'output_token_details': {'audio': 0, 'reasoning': 0}}\n",
            "[Agent 1] 배경 정보: content='### LangGraph와 LangChain의 차이점 및 추가 설명\\n\\n#### 1. **LangGraph란?**\\n   - **정의**: LangGraph는 **대화형 상태(stateful) LLM 애플리케이션**을 구축하기 위한 프레임워크로, 복잡한 대화 흐름(flow)을 그래프로 표현할 수 있게 합니다.  \\n   - **주요 기능**:\\n     - **상태 관리**: 사용자 대화 기록을 구조화된 상태(state)로 유지하며, 다중 턴(turn) 대화를 지원합니다.\\n     - **그래프 기반 설계**: 노드(Node)와 에지(Edge)로 구성된 시각적 흐름을 통해 복잡한 로직을 구현할 수 있습니다 (예: 분기, 루프, 조건 처리).\\n     - **LangChain 통합**: LangChain의 체인(Chain)과 에이전트를 LangGraph 노드에 통합할 수 있습니다.\\n   - **사용 사례**:  \\n     - 복잡한 챗봇 (예: 주문 처리, 예약 시스템)  \\n     - 다단계 추론이 필요한 작업 (예: 문서 분석 → 요약 → 질문 응답)  \\n     - 상태 유지가 필요한 애플리케이션 (예: 게임, 튜토리얼)\\n\\n#### 2. **LangChain과의 차이점**\\n   | **기준**       | **LangChain**                          | **LangGraph**                          |\\n   |----------------|----------------------------------------|----------------------------------------|\\n   | **목적**       | 모듈식 LLM 애플리케이션 구축           | 상태(state)가 있는 복잡한 대화 흐름 관리 |\\n   | **구조**       | 체인(Chain), 에이전트(Agent) 중심      | 그래프(Graph) 기반 흐름 설계           |\\n   | **상태 관리**  | 제한적 (주로 단일 턴)                  | 명시적 상태 저장 및 업데이트            |\\n   | **유연성**     | 간단한 파이프라인에 적합              | 분기/루프/조건 처리가 필요한 복잡한 시나리오 |\\n   | **통합**       | 다양한 LLM 및 도구 지원                | LangChain 구성 요소를 노드로 활용 가능 |\\n\\n#### 3. **추가 정보: LangGraph의 작동 방식**\\n   - **노드(Node)**: 각 노드는 LLM 호출, 도구 사용, 상태 업데이트 등의 작업을 정의합니다.  \\n     (예: `{\"id\": \"llm_node\", \"type\": \"llm\", \"model\": \"gpt-4\"}`)\\n   - **에지(Edge)**: 노드 간 연결 규칙을 정의합니다. 조건 기반 분기(예: `if user_input == \"yes\"`)도 가능합니다.\\n   - **상태(State)**: 대화 중 생성된 데이터(예: 사용자 입력, 중간 결과)를 JSON 형식으로 유지하며, 각 노드에서 수정/참조할 수 있습니다.\\n\\n#### 4. **예시: LangGraph vs LangChain**\\n   - **LangChain 예시**:  \\n     ```python\\n     from langchain.chains import LLMChain\\n     from langchain.prompts import PromptTemplate\\n     prompt = PromptTemplate(input_variables=[\"topic\"], template=\"Tell me a joke about {topic}\")\\n     chain = LLMChain(llm=ChatOpenAI(), prompt=prompt)\\n     chain.run(\"cats\")  # 단일 턴 실행\\n     ```\\n   - **LangGraph 예시**:  \\n     ```python\\n     from langgraph import State, Graph\\n     from langchain.chat_models import ChatOpenAI\\n     graph = Graph()\\n     @graph.node\\n     def start_state(state: State) -> dict:\\n         return {\"topic\": \"cats\"}\\n     \\n     @graph.node\\n     def generate_joke(state: State, topic: str) -> dict:\\n         response = ChatOpenAI().call(f\"Tell me a joke about {topic}\")\\n         return {\"joke\": response.content}\\n     \\n     graph.add_edge(\"start_state\", \"generate_joke\")\\n     # 실행 시 상태 유지 및 흐름 제어 가능\\n     ```\\n\\n#### 5. **학습 자료 추천**\\n   - **공식 문서**:  \\n     - [LangGraph Docs](https://langchain-ai.github.io/langgraph/)  \\n     - [LangChain Docs](https://python.langchain.com/)\\n   - **실습 예제**:  \\n     - [LangGraph GitHub](https://github.com/langchain-ai/langgraph) (복잡한 대화 예제 포함)  \\n     - [LangChain + LangGraph 통합 튜토리얼](https://www.youtube.com/watch?v=예시링크)\\n\\n#### 6. **요약**\\n   - **LangChain**은 LLM 기반 애플리케이션의 **기본 빌딩 블록**을 제공하는 반면,  \\n   - **LangGraph**는 LangChain을 활용해 **상태 관리와 복잡한 대화 흐름**을 구현하는 **상위 계층 도구**입니다.  \\n   - 두 도구는 함께 사용될 때 시너지가 큽니다 (예: LangChain의 체인을 LangGraph 노드로 연결).' additional_kwargs={'refusal': None} response_metadata={'token_usage': {'completion_tokens': 922, 'prompt_tokens': 40, 'total_tokens': 962, 'completion_tokens_details': {'accepted_prediction_tokens': 0, 'audio_tokens': 0, 'reasoning_tokens': 0, 'rejected_prediction_tokens': 0}, 'prompt_tokens_details': {'audio_tokens': 0, 'cached_tokens': 0}}, 'model_name': 'solar-pro2-250909', 'system_fingerprint': None, 'id': 'ac409b39-92e6-4911-867c-ca9f6e66cb8d', 'service_tier': None, 'finish_reason': 'stop', 'logprobs': None} id='run--afac96e6-2526-43a0-83ab-4c65d34a7a29-0' usage_metadata={'input_tokens': 40, 'output_tokens': 922, 'total_tokens': 962, 'input_token_details': {'audio': 0, 'cache_read': 0}, 'output_token_details': {'audio': 0, 'reasoning': 0}}\n",
            "\n",
            "[Agent 2] 최종 답변 생성 완료\n",
            "\n",
            "{'final_answer': AIMessage(content='### LangGraph와 LangChain의 차이점 및 심층 분석\\n\\n#### 1. **LangGraph란?**\\nLangGraph는 **상태(stateful) LLM 애플리케이션**을 구축하기 위한 그래프 기반 프레임워크로, 복잡한 대화 흐름을 체계적으로 관리하는 데 특화되어 있습니다.  \\n- **핵심 기능**:  \\n  - **상태 관리**: 다중 턴 대화에서 사용자 입력, 중간 결과, 컨텍스트를 JSON 형식의 상태로 유지하며, 노드 간 상태 전달이 가능합니다.  \\n  - **그래프 구조**: 노드(작업 단위)와 에지(흐름 제어)로 구성된 시각적 설계를 지원합니다. 예를 들어, 조건 분기(`if-else`), 루프, 병렬 처리 등을 구현할 수 있습니다.  \\n  - **LangChain 통합**: LangChain의 체인, 에이전트, 메모리 모듈을 LangGraph 노드에 직접 활용할 수 있어 확장성이 뛰어납니다.  \\n- **사용 사례**:  \\n  - 다단계 챗봇(예: 주문 → 결제 → 확인), 문서 분석 파이프라인, 게임 로직 구현 등 **상태 유지가 필수적인 시나리오**.\\n\\n#### 2. **LangChain과의 차이점**\\n| **기준**         | **LangChain**                          | **LangGraph**                          |\\n|------------------|----------------------------------------|----------------------------------------|\\n| **목적**         | LLM 애플리케이션의 **기본 구성 요소** 제공 | **복잡한 대화 흐름** 및 상태 관리 최적화 |\\n| **구조**         | 체인(Chain), 에이전트(Agent) 중심       | 그래프(Graph) 기반 흐름 설계            |\\n| **상태 관리**    | 단일 턴 또는 간단한 메모리 모듈 지원    | 명시적 상태 저장/업데이트 (JSON 기반)   |\\n| **유연성**       | 선형 파이프라인에 적합                 | 분기, 루프, 조건 처리 등 **비선형 흐름** 지원 |\\n| **통합 범위**    | LLM, 벡터 DB, API 등 외부 도구 연결     | LangChain 구성 요소를 노드로 활용 가능  |\\n\\n#### 3. **기술적 차이: 예시 비교**\\n- **LangChain 예시**:  \\n  단일 턴 실행으로, 상태 유지가 불가능합니다.  \\n  ```python\\n  from langchain.chains import LLMChain\\n  from langchain.prompts import PromptTemplate\\n  prompt = PromptTemplate(input_variables=[\"topic\"], template=\"Tell me a joke about {topic}\")\\n  chain = LLMChain(llm=ChatOpenAI(), prompt=prompt)\\n  chain.run(\"cats\")  # \"Why don\\'t cats play poker in the jungle? Too many cheetahs!\" 반환\\n  ```\\n- **LangGraph 예시**:  \\n  상태를 유지하며 다단계 흐름을 제어합니다.  \\n  ```python\\n  from langgraph import State, Graph\\n  from langchain.chat_models import ChatOpenAI\\n\\n  graph = Graph()\\n\\n  @graph.node\\n  def start_state(state: State) -> dict:\\n      return {\"topic\": \"cats\", \"step\": 1}  # 초기 상태 설정\\n\\n  @graph.node\\n  def generate_joke(state: State, topic: str) -> dict:\\n      response = ChatOpenAI().call(f\"Tell me a joke about {topic}\")\\n      return {\"joke\": response.content, \"step\": state[\"step\"] + 1}\\n\\n  @graph.node\\n  def check_step(state: State, step: int) -> dict:\\n      if step < 3:\\n          return {\"next_step\": \"generate_joke\"}  # 조건부 흐름 제어\\n      else:\\n          return {\"done\": True}\\n\\n  graph.add_edge(\"start_state\", \"generate_joke\")\\n  graph.add_edge(\"generate_joke\", \"check_step\")\\n  graph.add_conditional_edge(\"check_step\", \"next_step\", \"done\", \"generate_joke\", \"end_state\")\\n\\n  # 실행 시 상태 유지 및 흐름 제어 가능\\n  ```\\n\\n#### 4. **함께 사용할 때의 시너지**\\n- **LangChain + LangGraph 조합**:  \\n  - LangChain으로 LLM 체인/에이전트를 만들고, LangGraph로 이를 노드에 배치해 복잡한 워크플로우를 구축할 수 있습니다.  \\n  - 예시:  \\n    ```python\\n    # LangChain 체인 생성\\n    from langchain.chains import SimpleSequentialChain\\n    from langchain.prompts import ChatPromptTemplate\\n\\n    summary_prompt = ChatPromptTemplate.from_template(\"Summarize: {text}\")\\n    translation_prompt = ChatPromptTemplate.from_template(\"Translate to Korean: {text}\")\\n    chain = SimpleSequentialChain(chains=[summary_prompt | ChatOpenAI(), translation_prompt | ChatOpenAI()])\\n\\n    # LangGraph 노드에 통합\\n    @graph.node\\n    def process_text(state: State, text: str) -> dict:\\n        result = chain.run(text)\\n        return {\"summary_kr\": result}\\n    ```\\n\\n#### 5. **학습 및 활용 전략**\\n- **초보자**: LangChain으로 기본 체인/에이전트 구축 연습 후, LangGraph로 확장.  \\n- **고급 사용자**:  \\n  - LangGraph의 `State` 객체를 활용해 사용자별 세션 관리 구현.  \\n  - 조건 분기(`Conditional Edge`)로 동적 대화 흐름 설계 (예: 사용자 입력에 따라 다른 노드 호출).  \\n- **공식 리소스**:  \\n  - [LangGraph GitHub](https://github.com/langchain-ai/langgraph) (실시간 예제 제공)  \\n  - [LangChain + LangGraph 통합 가이드](https://python.langchain.com/docs/expression_language/)  \\n\\n#### 6. **결론**\\n- **LangChain**은 LLM 애플리케이션의 **레고 블록**과 같아 단순한 작업에 적합하지만,  \\n- **LangGraph**는 이 블록들을 조합해 **거대한 성**을 짓는 **건축 도구**로, 상태 관리와 복잡한 흐름이 필요한 시나리오에서 필수적입니다.  \\n- 두 프레임워크는 상호 보완적이므로, 프로젝트 요구사항에 따라 적절히 선택해 활용하는 것이 중요합니다.', additional_kwargs={'refusal': None}, response_metadata={'token_usage': {'completion_tokens': 1176, 'prompt_tokens': 1776, 'total_tokens': 2952, 'completion_tokens_details': {'accepted_prediction_tokens': 0, 'audio_tokens': 0, 'reasoning_tokens': 0, 'rejected_prediction_tokens': 0}, 'prompt_tokens_details': {'audio_tokens': 0, 'cached_tokens': 0}}, 'model_name': 'solar-pro2-250909', 'system_fingerprint': None, 'id': '62723cdd-9643-4a72-8076-370a3539a9c8', 'service_tier': None, 'finish_reason': 'stop', 'logprobs': None}, id='run--72161aeb-b0e2-4225-a515-8e8a5e8b15ff-0', usage_metadata={'input_tokens': 1776, 'output_tokens': 1176, 'total_tokens': 2952, 'input_token_details': {'audio': 0, 'cache_read': 0}, 'output_token_details': {'audio': 0, 'reasoning': 0}})}\n"
          ]
        }
      ],
      "source": [
        "# Graph\n",
        "query = \"LangGraph는 무엇이며, LangChain과 어떤 차이점이 있나요?\"\n",
        "\n",
        "state = {\"query\": query}\n",
        "result = graph.invoke(state)\n",
        "\n",
        "print(result)\n"
      ]
    },
    {
      "cell_type": "code",
      "execution_count": 25,
      "metadata": {},
      "outputs": [
        {
          "name": "stdout",
          "output_type": "stream",
          "text": [
            "{'final_answer': AIMessage(content='### LangGraph와 LangChain의 차이점 및 심층 분석\\n\\n#### 1. **LangGraph란?**\\nLangGraph는 **상태(stateful) LLM 애플리케이션**을 구축하기 위한 그래프 기반 프레임워크로, 복잡한 대화 흐름을 체계적으로 관리하는 데 특화되어 있습니다.  \\n- **핵심 기능**:  \\n  - **상태 관리**: 다중 턴 대화에서 사용자 입력, 중간 결과, 컨텍스트를 JSON 형식의 상태로 유지하며, 노드 간 상태 전달이 가능합니다.  \\n  - **그래프 구조**: 노드(작업 단위)와 에지(흐름 제어)로 구성된 시각적 설계를 지원합니다. 예를 들어, 조건 분기(`if-else`), 루프, 병렬 처리 등을 구현할 수 있습니다.  \\n  - **LangChain 통합**: LangChain의 체인, 에이전트, 메모리 모듈을 LangGraph 노드에 직접 활용할 수 있어 확장성이 뛰어납니다.  \\n- **사용 사례**:  \\n  - 다단계 챗봇(예: 주문 → 결제 → 확인), 문서 분석 파이프라인, 게임 로직 구현 등 **상태 유지가 필수적인 시나리오**.\\n\\n#### 2. **LangChain과의 차이점**\\n| **기준**         | **LangChain**                          | **LangGraph**                          |\\n|------------------|----------------------------------------|----------------------------------------|\\n| **목적**         | LLM 애플리케이션의 **기본 구성 요소** 제공 | **복잡한 대화 흐름** 및 상태 관리 최적화 |\\n| **구조**         | 체인(Chain), 에이전트(Agent) 중심       | 그래프(Graph) 기반 흐름 설계            |\\n| **상태 관리**    | 단일 턴 또는 간단한 메모리 모듈 지원    | 명시적 상태 저장/업데이트 (JSON 기반)   |\\n| **유연성**       | 선형 파이프라인에 적합                 | 분기, 루프, 조건 처리 등 **비선형 흐름** 지원 |\\n| **통합 범위**    | LLM, 벡터 DB, API 등 외부 도구 연결     | LangChain 구성 요소를 노드로 활용 가능  |\\n\\n#### 3. **기술적 차이: 예시 비교**\\n- **LangChain 예시**:  \\n  단일 턴 실행으로, 상태 유지가 불가능합니다.  \\n  ```python\\n  from langchain.chains import LLMChain\\n  from langchain.prompts import PromptTemplate\\n  prompt = PromptTemplate(input_variables=[\"topic\"], template=\"Tell me a joke about {topic}\")\\n  chain = LLMChain(llm=ChatOpenAI(), prompt=prompt)\\n  chain.run(\"cats\")  # \"Why don\\'t cats play poker in the jungle? Too many cheetahs!\" 반환\\n  ```\\n- **LangGraph 예시**:  \\n  상태를 유지하며 다단계 흐름을 제어합니다.  \\n  ```python\\n  from langgraph import State, Graph\\n  from langchain.chat_models import ChatOpenAI\\n\\n  graph = Graph()\\n\\n  @graph.node\\n  def start_state(state: State) -> dict:\\n      return {\"topic\": \"cats\", \"step\": 1}  # 초기 상태 설정\\n\\n  @graph.node\\n  def generate_joke(state: State, topic: str) -> dict:\\n      response = ChatOpenAI().call(f\"Tell me a joke about {topic}\")\\n      return {\"joke\": response.content, \"step\": state[\"step\"] + 1}\\n\\n  @graph.node\\n  def check_step(state: State, step: int) -> dict:\\n      if step < 3:\\n          return {\"next_step\": \"generate_joke\"}  # 조건부 흐름 제어\\n      else:\\n          return {\"done\": True}\\n\\n  graph.add_edge(\"start_state\", \"generate_joke\")\\n  graph.add_edge(\"generate_joke\", \"check_step\")\\n  graph.add_conditional_edge(\"check_step\", \"next_step\", \"done\", \"generate_joke\", \"end_state\")\\n\\n  # 실행 시 상태 유지 및 흐름 제어 가능\\n  ```\\n\\n#### 4. **함께 사용할 때의 시너지**\\n- **LangChain + LangGraph 조합**:  \\n  - LangChain으로 LLM 체인/에이전트를 만들고, LangGraph로 이를 노드에 배치해 복잡한 워크플로우를 구축할 수 있습니다.  \\n  - 예시:  \\n    ```python\\n    # LangChain 체인 생성\\n    from langchain.chains import SimpleSequentialChain\\n    from langchain.prompts import ChatPromptTemplate\\n\\n    summary_prompt = ChatPromptTemplate.from_template(\"Summarize: {text}\")\\n    translation_prompt = ChatPromptTemplate.from_template(\"Translate to Korean: {text}\")\\n    chain = SimpleSequentialChain(chains=[summary_prompt | ChatOpenAI(), translation_prompt | ChatOpenAI()])\\n\\n    # LangGraph 노드에 통합\\n    @graph.node\\n    def process_text(state: State, text: str) -> dict:\\n        result = chain.run(text)\\n        return {\"summary_kr\": result}\\n    ```\\n\\n#### 5. **학습 및 활용 전략**\\n- **초보자**: LangChain으로 기본 체인/에이전트 구축 연습 후, LangGraph로 확장.  \\n- **고급 사용자**:  \\n  - LangGraph의 `State` 객체를 활용해 사용자별 세션 관리 구현.  \\n  - 조건 분기(`Conditional Edge`)로 동적 대화 흐름 설계 (예: 사용자 입력에 따라 다른 노드 호출).  \\n- **공식 리소스**:  \\n  - [LangGraph GitHub](https://github.com/langchain-ai/langgraph) (실시간 예제 제공)  \\n  - [LangChain + LangGraph 통합 가이드](https://python.langchain.com/docs/expression_language/)  \\n\\n#### 6. **결론**\\n- **LangChain**은 LLM 애플리케이션의 **레고 블록**과 같아 단순한 작업에 적합하지만,  \\n- **LangGraph**는 이 블록들을 조합해 **거대한 성**을 짓는 **건축 도구**로, 상태 관리와 복잡한 흐름이 필요한 시나리오에서 필수적입니다.  \\n- 두 프레임워크는 상호 보완적이므로, 프로젝트 요구사항에 따라 적절히 선택해 활용하는 것이 중요합니다.', additional_kwargs={'refusal': None}, response_metadata={'token_usage': {'completion_tokens': 1176, 'prompt_tokens': 1776, 'total_tokens': 2952, 'completion_tokens_details': {'accepted_prediction_tokens': 0, 'audio_tokens': 0, 'reasoning_tokens': 0, 'rejected_prediction_tokens': 0}, 'prompt_tokens_details': {'audio_tokens': 0, 'cached_tokens': 0}}, 'model_name': 'solar-pro2-250909', 'system_fingerprint': None, 'id': '62723cdd-9643-4a72-8076-370a3539a9c8', 'service_tier': None, 'finish_reason': 'stop', 'logprobs': None}, id='run--72161aeb-b0e2-4225-a515-8e8a5e8b15ff-0', usage_metadata={'input_tokens': 1776, 'output_tokens': 1176, 'total_tokens': 2952, 'input_token_details': {'audio': 0, 'cache_read': 0}, 'output_token_details': {'audio': 0, 'reasoning': 0}})}\n"
          ]
        }
      ],
      "source": [
        "pprint(result)\n"
      ]
    },
    {
      "cell_type": "code",
      "execution_count": 27,
      "metadata": {},
      "outputs": [
        {
          "name": "stdout",
          "output_type": "stream",
          "text": [
            "('### LangGraph와 LangChain의 차이점 및 심층 분석\\n'\n",
            " '\\n'\n",
            " '#### 1. **LangGraph란?**\\n'\n",
            " 'LangGraph는 **상태(stateful) LLM 애플리케이션**을 구축하기 위한 그래프 기반 프레임워크로, 복잡한 대화 흐름을 '\n",
            " '체계적으로 관리하는 데 특화되어 있습니다.  \\n'\n",
            " '- **핵심 기능**:  \\n'\n",
            " '  - **상태 관리**: 다중 턴 대화에서 사용자 입력, 중간 결과, 컨텍스트를 JSON 형식의 상태로 유지하며, 노드 간 상태 전달이 '\n",
            " '가능합니다.  \\n'\n",
            " '  - **그래프 구조**: 노드(작업 단위)와 에지(흐름 제어)로 구성된 시각적 설계를 지원합니다. 예를 들어, 조건 '\n",
            " '분기(`if-else`), 루프, 병렬 처리 등을 구현할 수 있습니다.  \\n'\n",
            " '  - **LangChain 통합**: LangChain의 체인, 에이전트, 메모리 모듈을 LangGraph 노드에 직접 활용할 수 있어 '\n",
            " '확장성이 뛰어납니다.  \\n'\n",
            " '- **사용 사례**:  \\n'\n",
            " '  - 다단계 챗봇(예: 주문 → 결제 → 확인), 문서 분석 파이프라인, 게임 로직 구현 등 **상태 유지가 필수적인 시나리오**.\\n'\n",
            " '\\n'\n",
            " '#### 2. **LangChain과의 차이점**\\n'\n",
            " '| **기준**         | **LangChain**                          | '\n",
            " '**LangGraph**                          |\\n'\n",
            " '|------------------|----------------------------------------|----------------------------------------|\\n'\n",
            " '| **목적**         | LLM 애플리케이션의 **기본 구성 요소** 제공 | **복잡한 대화 흐름** 및 상태 관리 최적화 '\n",
            " '|\\n'\n",
            " '| **구조**         | 체인(Chain), 에이전트(Agent) 중심       | 그래프(Graph) 기반 흐름 '\n",
            " '설계            |\\n'\n",
            " '| **상태 관리**    | 단일 턴 또는 간단한 메모리 모듈 지원    | 명시적 상태 저장/업데이트 (JSON 기반)   |\\n'\n",
            " '| **유연성**       | 선형 파이프라인에 적합                 | 분기, 루프, 조건 처리 등 **비선형 흐름** '\n",
            " '지원 |\\n'\n",
            " '| **통합 범위**    | LLM, 벡터 DB, API 등 외부 도구 연결     | LangChain 구성 요소를 노드로 활용 '\n",
            " '가능  |\\n'\n",
            " '\\n'\n",
            " '#### 3. **기술적 차이: 예시 비교**\\n'\n",
            " '- **LangChain 예시**:  \\n'\n",
            " '  단일 턴 실행으로, 상태 유지가 불가능합니다.  \\n'\n",
            " '  ```python\\n'\n",
            " '  from langchain.chains import LLMChain\\n'\n",
            " '  from langchain.prompts import PromptTemplate\\n'\n",
            " '  prompt = PromptTemplate(input_variables=[\"topic\"], template=\"Tell me a '\n",
            " 'joke about {topic}\")\\n'\n",
            " '  chain = LLMChain(llm=ChatOpenAI(), prompt=prompt)\\n'\n",
            " '  chain.run(\"cats\")  # \"Why don\\'t cats play poker in the jungle? Too many '\n",
            " 'cheetahs!\" 반환\\n'\n",
            " '  ```\\n'\n",
            " '- **LangGraph 예시**:  \\n'\n",
            " '  상태를 유지하며 다단계 흐름을 제어합니다.  \\n'\n",
            " '  ```python\\n'\n",
            " '  from langgraph import State, Graph\\n'\n",
            " '  from langchain.chat_models import ChatOpenAI\\n'\n",
            " '\\n'\n",
            " '  graph = Graph()\\n'\n",
            " '\\n'\n",
            " '  @graph.node\\n'\n",
            " '  def start_state(state: State) -> dict:\\n'\n",
            " '      return {\"topic\": \"cats\", \"step\": 1}  # 초기 상태 설정\\n'\n",
            " '\\n'\n",
            " '  @graph.node\\n'\n",
            " '  def generate_joke(state: State, topic: str) -> dict:\\n'\n",
            " '      response = ChatOpenAI().call(f\"Tell me a joke about {topic}\")\\n'\n",
            " '      return {\"joke\": response.content, \"step\": state[\"step\"] + 1}\\n'\n",
            " '\\n'\n",
            " '  @graph.node\\n'\n",
            " '  def check_step(state: State, step: int) -> dict:\\n'\n",
            " '      if step < 3:\\n'\n",
            " '          return {\"next_step\": \"generate_joke\"}  # 조건부 흐름 제어\\n'\n",
            " '      else:\\n'\n",
            " '          return {\"done\": True}\\n'\n",
            " '\\n'\n",
            " '  graph.add_edge(\"start_state\", \"generate_joke\")\\n'\n",
            " '  graph.add_edge(\"generate_joke\", \"check_step\")\\n'\n",
            " '  graph.add_conditional_edge(\"check_step\", \"next_step\", \"done\", '\n",
            " '\"generate_joke\", \"end_state\")\\n'\n",
            " '\\n'\n",
            " '  # 실행 시 상태 유지 및 흐름 제어 가능\\n'\n",
            " '  ```\\n'\n",
            " '\\n'\n",
            " '#### 4. **함께 사용할 때의 시너지**\\n'\n",
            " '- **LangChain + LangGraph 조합**:  \\n'\n",
            " '  - LangChain으로 LLM 체인/에이전트를 만들고, LangGraph로 이를 노드에 배치해 복잡한 워크플로우를 구축할 수 '\n",
            " '있습니다.  \\n'\n",
            " '  - 예시:  \\n'\n",
            " '    ```python\\n'\n",
            " '    # LangChain 체인 생성\\n'\n",
            " '    from langchain.chains import SimpleSequentialChain\\n'\n",
            " '    from langchain.prompts import ChatPromptTemplate\\n'\n",
            " '\\n'\n",
            " '    summary_prompt = ChatPromptTemplate.from_template(\"Summarize: {text}\")\\n'\n",
            " '    translation_prompt = ChatPromptTemplate.from_template(\"Translate to '\n",
            " 'Korean: {text}\")\\n'\n",
            " '    chain = SimpleSequentialChain(chains=[summary_prompt | ChatOpenAI(), '\n",
            " 'translation_prompt | ChatOpenAI()])\\n'\n",
            " '\\n'\n",
            " '    # LangGraph 노드에 통합\\n'\n",
            " '    @graph.node\\n'\n",
            " '    def process_text(state: State, text: str) -> dict:\\n'\n",
            " '        result = chain.run(text)\\n'\n",
            " '        return {\"summary_kr\": result}\\n'\n",
            " '    ```\\n'\n",
            " '\\n'\n",
            " '#### 5. **학습 및 활용 전략**\\n'\n",
            " '- **초보자**: LangChain으로 기본 체인/에이전트 구축 연습 후, LangGraph로 확장.  \\n'\n",
            " '- **고급 사용자**:  \\n'\n",
            " '  - LangGraph의 `State` 객체를 활용해 사용자별 세션 관리 구현.  \\n'\n",
            " '  - 조건 분기(`Conditional Edge`)로 동적 대화 흐름 설계 (예: 사용자 입력에 따라 다른 노드 호출).  \\n'\n",
            " '- **공식 리소스**:  \\n'\n",
            " '  - [LangGraph GitHub](https://github.com/langchain-ai/langgraph) (실시간 예제 '\n",
            " '제공)  \\n'\n",
            " '  - [LangChain + LangGraph 통합 '\n",
            " '가이드](https://python.langchain.com/docs/expression_language/)  \\n'\n",
            " '\\n'\n",
            " '#### 6. **결론**\\n'\n",
            " '- **LangChain**은 LLM 애플리케이션의 **레고 블록**과 같아 단순한 작업에 적합하지만,  \\n'\n",
            " '- **LangGraph**는 이 블록들을 조합해 **거대한 성**을 짓는 **건축 도구**로, 상태 관리와 복잡한 흐름이 필요한 '\n",
            " '시나리오에서 필수적입니다.  \\n'\n",
            " '- 두 프레임워크는 상호 보완적이므로, 프로젝트 요구사항에 따라 적절히 선택해 활용하는 것이 중요합니다.')\n"
          ]
        }
      ],
      "source": [
        "pprint(result['final_answer'].content)"
      ]
    }
  ],
  "metadata": {
    "kernelspec": {
      "display_name": "mylangchain-app-SBe-Yh6W-py3.12",
      "language": "python",
      "name": "python3"
    },
    "language_info": {
      "codemirror_mode": {
        "name": "ipython",
        "version": 3
      },
      "file_extension": ".py",
      "mimetype": "text/x-python",
      "name": "python",
      "nbconvert_exporter": "python",
      "pygments_lexer": "ipython3",
      "version": "3.12.7"
    }
  },
  "nbformat": 4,
  "nbformat_minor": 2
}
